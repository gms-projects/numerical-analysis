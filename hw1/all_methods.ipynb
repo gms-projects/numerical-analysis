{
 "cells": [
  {
   "cell_type": "code",
   "execution_count": 1,
   "metadata": {},
   "outputs": [],
   "source": [
    "import matplotlib.pyplot as plt\n",
    "import numpy as np"
   ]
  },
  {
   "cell_type": "code",
   "execution_count": 2,
   "metadata": {},
   "outputs": [
    {
     "data": {
      "image/png": "[encoded data removed]",
      "text/plain": [
       "<Figure size 432x288 with 1 Axes>"
      ]
     },
     "metadata": {
      "needs_background": "light"
     },
     "output_type": "display_data"
    }
   ],
   "source": [
    "x = np.linspace(-4, 4)\n",
    "# y = 4 * x ** 3 + 6 * x ** 2 - 20 * x - 13\n",
    "def y(x):\n",
    "    return 4 * x ** 3 + 6 * x ** 2 - 20 * x - 13\n",
    "plt.plot(x, y(x))\n",
    "plt.grid(True)\n",
    "plt.axhline(0, color='black')\n",
    "plt.axvline(0, color='black')\n",
    "\n",
    "rs = [-2.8532, -0.58707, 1.9403] # y roots\n",
    "for r_ in rs:\n",
    "    plt.plot(r_, y(r_), marker='.', color='red')\n",
    "\n",
    "xs = [-3.5, -2.5, -1, 0, 1.5, 2.5] \n",
    "sec_y = np.linspace(-50, 50)\n",
    "for x_ in xs:\n",
    "    plt.plot(x_, y(x_), marker = '|' , markerSize = 42, markeredgeWidth = 3, color='green')"
   ]
  },
  {
   "cell_type": "code",
   "execution_count": 3,
   "metadata": {},
   "outputs": [
    {
     "name": "stdout",
     "output_type": "stream",
     "text": [
      "-3.0\n",
      "-2.75\n",
      "-2.875\n",
      "-2.8125\n",
      "-2.84375\n",
      "-2.859375\n",
      "-2.8515625\n",
      "-2.85546875\n",
      "-2.853515625\n",
      "-2.8525390625\n",
      "-2.85302734375\n",
      "-2.853271484375\n",
      "-2.8531494140625\n",
      "-2.85321044921875\n",
      "-2.853179931640625\n",
      "-2.8531951904296875\n",
      "-2.8531875610351562\n",
      "-2.8531951904296875\n"
     ]
    }
   ],
   "source": [
    "eps = 0.00001\n",
    "\n",
    "def half_division(a, b):\n",
    "    l = a\n",
    "    r = b\n",
    "    while (r - l > eps):\n",
    "        x = (l + r) / 2.0\n",
    "        print(x)\n",
    "        if (y(l) * y(x) <= 0):\n",
    "            r = x\n",
    "        else:\n",
    "            l = x\n",
    "    return l\n",
    "\n",
    "print(half_division(-3.5, -2.5))"
   ]
  },
  {
   "cell_type": "code",
   "execution_count": 4,
   "metadata": {},
   "outputs": [
    {
     "name": "stdout",
     "output_type": "stream",
     "text": [
      "-0.5\n",
      "-0.75\n",
      "-0.625\n",
      "-0.5625\n",
      "-0.59375\n",
      "-0.578125\n",
      "-0.5859375\n",
      "-0.58984375\n",
      "-0.587890625\n",
      "-0.5869140625\n",
      "-0.58740234375\n",
      "-0.587158203125\n",
      "-0.5870361328125\n",
      "-0.58709716796875\n",
      "-0.587066650390625\n",
      "-0.5870819091796875\n",
      "-0.5870742797851562\n",
      "-0.5870742797851562\n"
     ]
    }
   ],
   "source": [
    "print(half_division(-1.0, 0.0))"
   ]
  },
  {
   "cell_type": "code",
   "execution_count": 5,
   "metadata": {},
   "outputs": [
    {
     "name": "stdout",
     "output_type": "stream",
     "text": [
      "2.0\n",
      "1.75\n",
      "1.875\n",
      "1.9375\n",
      "1.96875\n",
      "1.953125\n",
      "1.9453125\n",
      "1.94140625\n",
      "1.939453125\n",
      "1.9404296875\n",
      "1.93994140625\n",
      "1.940185546875\n",
      "1.9403076171875\n",
      "1.94024658203125\n",
      "1.940277099609375\n",
      "1.9402618408203125\n",
      "1.9402694702148438\n",
      "1.9402618408203125\n"
     ]
    }
   ],
   "source": [
    "print(half_division(1.5, 2.5))"
   ]
  },
  {
   "cell_type": "code",
   "execution_count": 6,
   "metadata": {},
   "outputs": [
    {
     "name": "stdout",
     "output_type": "stream",
     "text": [
      "-2.868257140222441\n",
      "-2.8533394138402377\n",
      "-2.853194193303093\n",
      "-2.8531941795967866\n",
      "-2.8531941795967866\n"
     ]
    }
   ],
   "source": [
    "def y_der(x):\n",
    "    return 12 * x ** 2 + 12 * x - 20\n",
    "    \n",
    "def get_next(x):\n",
    "    return x - y(x) / y_der(x)\n",
    "\n",
    "def newton(x_0):\n",
    "    x_cur = x_0\n",
    "    x_next = get_next(x_cur)\n",
    "    while (abs(x_next - x_cur) > eps):\n",
    "        x_cur = x_next\n",
    "        x_next = get_next(x_next)\n",
    "        print(x_next)\n",
    "    return x_next\n",
    "\n",
    "print(newton(-3.5))"
   ]
  },
  {
   "cell_type": "code",
   "execution_count": 7,
   "metadata": {},
   "outputs": [
    {
     "name": "stdout",
     "output_type": "stream",
     "text": [
      "-0.5870713252994758\n",
      "-0.5870713259000666\n",
      "-0.5870713259000666\n"
     ]
    }
   ],
   "source": [
    "print(newton(-0.5))"
   ]
  },
  {
   "cell_type": "code",
   "execution_count": 8,
   "metadata": {},
   "outputs": [
    {
     "name": "stdout",
     "output_type": "stream",
     "text": [
      "1.9486484196834286\n",
      "1.9403076406201971\n",
      "1.9402655065696501\n",
      "1.940265505496853\n",
      "1.940265505496853\n"
     ]
    }
   ],
   "source": [
    "print(newton(2.5))"
   ]
  },
  {
   "cell_type": "code",
   "execution_count": 9,
   "metadata": {},
   "outputs": [
    {
     "name": "stdout",
     "output_type": "stream",
     "text": [
      "9.5\n",
      "3777.5\n",
      "215697784689.5\n",
      "4.0141818737520043e+34\n",
      "2.5873258519580273e+104\n"
     ]
    },
    {
     "ename": "OverflowError",
     "evalue": "(34, 'Result too large')",
     "output_type": "error",
     "traceback": [
      "\u001b[1;31m---------------------------------------------------------------------------\u001b[0m",
      "\u001b[1;31mOverflowError\u001b[0m                             Traceback (most recent call last)",
      "\u001b[1;32m<ipython-input-9-7a4137eaff9b>\u001b[0m in \u001b[0;36m<module>\u001b[1;34m\u001b[0m\n\u001b[0;32m     11\u001b[0m     \u001b[1;32mreturn\u001b[0m \u001b[0mx_next\u001b[0m\u001b[1;33m\u001b[0m\u001b[1;33m\u001b[0m\u001b[0m\n\u001b[0;32m     12\u001b[0m \u001b[1;31m# print(simple_iter(-22))\u001b[0m\u001b[1;33m\u001b[0m\u001b[1;33m\u001b[0m\u001b[1;33m\u001b[0m\u001b[0m\n\u001b[1;32m---> 13\u001b[1;33m \u001b[0mprint\u001b[0m\u001b[1;33m(\u001b[0m\u001b[0msimple_iter\u001b[0m\u001b[1;33m(\u001b[0m\u001b[1;33m-\u001b[0m\u001b[1;36m0.5\u001b[0m\u001b[1;33m)\u001b[0m\u001b[1;33m)\u001b[0m\u001b[1;33m\u001b[0m\u001b[1;33m\u001b[0m\u001b[0m\n\u001b[0m",
      "\u001b[1;32m<ipython-input-9-7a4137eaff9b>\u001b[0m in \u001b[0;36msimple_iter\u001b[1;34m(x_0)\u001b[0m\n\u001b[0;32m      7\u001b[0m     \u001b[1;32mwhile\u001b[0m \u001b[1;33m(\u001b[0m\u001b[0mabs\u001b[0m\u001b[1;33m(\u001b[0m\u001b[0mx_next\u001b[0m \u001b[1;33m-\u001b[0m \u001b[0mx_cur\u001b[0m\u001b[1;33m)\u001b[0m \u001b[1;33m>\u001b[0m \u001b[0meps\u001b[0m\u001b[1;33m)\u001b[0m\u001b[1;33m:\u001b[0m\u001b[1;33m\u001b[0m\u001b[1;33m\u001b[0m\u001b[0m\n\u001b[0;32m      8\u001b[0m         \u001b[0mx_cur\u001b[0m \u001b[1;33m=\u001b[0m \u001b[0mx_next\u001b[0m\u001b[1;33m\u001b[0m\u001b[1;33m\u001b[0m\u001b[0m\n\u001b[1;32m----> 9\u001b[1;33m         \u001b[0mx_next\u001b[0m \u001b[1;33m=\u001b[0m \u001b[0mphi\u001b[0m\u001b[1;33m(\u001b[0m\u001b[0mx_next\u001b[0m\u001b[1;33m)\u001b[0m\u001b[1;33m\u001b[0m\u001b[1;33m\u001b[0m\u001b[0m\n\u001b[0m\u001b[0;32m     10\u001b[0m         \u001b[0mprint\u001b[0m\u001b[1;33m(\u001b[0m\u001b[0mx_next\u001b[0m\u001b[1;33m)\u001b[0m\u001b[1;33m\u001b[0m\u001b[1;33m\u001b[0m\u001b[0m\n\u001b[0;32m     11\u001b[0m     \u001b[1;32mreturn\u001b[0m \u001b[0mx_next\u001b[0m\u001b[1;33m\u001b[0m\u001b[1;33m\u001b[0m\u001b[0m\n",
      "\u001b[1;32m<ipython-input-9-7a4137eaff9b>\u001b[0m in \u001b[0;36mphi\u001b[1;34m(x)\u001b[0m\n\u001b[0;32m      1\u001b[0m \u001b[1;32mdef\u001b[0m \u001b[0mphi\u001b[0m\u001b[1;33m(\u001b[0m\u001b[0mx\u001b[0m\u001b[1;33m)\u001b[0m\u001b[1;33m:\u001b[0m\u001b[1;33m\u001b[0m\u001b[1;33m\u001b[0m\u001b[0m\n\u001b[1;32m----> 2\u001b[1;33m     \u001b[1;32mreturn\u001b[0m \u001b[1;36m4\u001b[0m \u001b[1;33m*\u001b[0m \u001b[0mx\u001b[0m \u001b[1;33m**\u001b[0m \u001b[1;36m3\u001b[0m \u001b[1;33m+\u001b[0m \u001b[1;36m6\u001b[0m \u001b[1;33m*\u001b[0m \u001b[0mx\u001b[0m \u001b[1;33m**\u001b[0m \u001b[1;36m2\u001b[0m \u001b[1;33m-\u001b[0m \u001b[1;36m19\u001b[0m \u001b[1;33m*\u001b[0m \u001b[0mx\u001b[0m \u001b[1;33m-\u001b[0m \u001b[1;36m13\u001b[0m\u001b[1;33m\u001b[0m\u001b[1;33m\u001b[0m\u001b[0m\n\u001b[0m\u001b[0;32m      3\u001b[0m \u001b[1;33m\u001b[0m\u001b[0m\n\u001b[0;32m      4\u001b[0m \u001b[1;32mdef\u001b[0m \u001b[0msimple_iter\u001b[0m\u001b[1;33m(\u001b[0m\u001b[0mx_0\u001b[0m\u001b[1;33m)\u001b[0m\u001b[1;33m:\u001b[0m\u001b[1;33m\u001b[0m\u001b[1;33m\u001b[0m\u001b[0m\n\u001b[0;32m      5\u001b[0m     \u001b[0mx_cur\u001b[0m \u001b[1;33m=\u001b[0m \u001b[0mx_0\u001b[0m\u001b[1;33m\u001b[0m\u001b[1;33m\u001b[0m\u001b[0m\n",
      "\u001b[1;31mOverflowError\u001b[0m: (34, 'Result too large')"
     ]
    }
   ],
   "source": [
    "def phi(x):\n",
    "    return 4 * x ** 3 + 6 * x ** 2 - 19 * x - 13\n",
    "\n",
    "def simple_iter(x_0):\n",
    "    x_cur = x_0\n",
    "    x_next = phi(x_cur)\n",
    "    while (abs(x_next - x_cur) > eps):\n",
    "        x_cur = x_next\n",
    "        x_next = phi(x_next)\n",
    "        print(x_next)\n",
    "    return x_next\n",
    "# print(simple_iter(-22))\n",
    "print(simple_iter(-0.5))"
   ]
  },
  {
   "cell_type": "code",
   "execution_count": 10,
   "metadata": {},
   "outputs": [
    {
     "name": "stdout",
     "output_type": "stream",
     "text": [
      "40.720525280000004\n",
      "-21.8442941428\n",
      "47.125760119999995\n"
     ]
    }
   ],
   "source": [
    "def phi_der(x):\n",
    "    return 12 * x ** 2 + 12 * x - 19\n",
    "\n",
    "rs = [-2.7862, -0.61391, 1.9001] # phi roots\n",
    "for r_ in rs:\n",
    "    print(phi_der(r_))"
   ]
  }
 ],
 "metadata": {
  "kernelspec": {
   "display_name": "Python 3",
   "language": "python",
   "name": "python3"
  },
  "language_info": {
   "codemirror_mode": {
    "name": "ipython",
    "version": 3
   },
   "file_extension": ".py",
   "mimetype": "text/x-python",
   "name": "python",
   "nbconvert_exporter": "python",
   "pygments_lexer": "ipython3",
   "version": "3.7.2"
  }
 },
 "nbformat": 4,
 "nbformat_minor": 2
}
