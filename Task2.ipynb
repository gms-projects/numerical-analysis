{
 "cells": [
  {
   "cell_type": "code",
   "execution_count": 1,
   "metadata": {},
   "outputs": [],
   "source": [
    "import random"
   ]
  },
  {
   "cell_type": "code",
   "execution_count": 2,
   "metadata": {},
   "outputs": [],
   "source": [
    "def phi(x, r):\n",
    "    return r * x * (1 - x)"
   ]
  },
  {
   "cell_type": "code",
   "execution_count": 3,
   "metadata": {},
   "outputs": [],
   "source": [
    "x1 = 0"
   ]
  },
  {
   "cell_type": "code",
   "execution_count": 4,
   "metadata": {},
   "outputs": [],
   "source": [
    "import time\n",
    "def x2(r):\n",
    "    return 1 - 1 / r"
   ]
  },
  {
   "cell_type": "code",
   "execution_count": 5,
   "metadata": {},
   "outputs": [],
   "source": [
    "def d(x1, x2):\n",
    "    return abs(x1 - x2)"
   ]
  },
  {
   "cell_type": "code",
   "execution_count": 6,
   "metadata": {},
   "outputs": [],
   "source": [
    "eps = 1e-7\n",
    "\n",
    "def isEnough(x_cur, x_prev):\n",
    "    return d(x_cur, x_prev) < eps"
   ]
  },
  {
   "cell_type": "code",
   "execution_count": 7,
   "metadata": {},
   "outputs": [],
   "source": [
    "def iterate(x0, r):\n",
    "    (x_cur, x_next) = (x0, phi(x0, r))\n",
    "    while (not isEnough(x_cur, x_next)):\n",
    "        (x_cur, x_next) = (x_next, phi(x_next, r))\n",
    "    return x_next"
   ]
  },
  {
   "cell_type": "markdown",
   "metadata": {},
   "source": [
    "$x = \\varphi(x)$, где $\\varphi(x) = rx(1 - x), r > 0$  \n",
    "$x_{1} = 0, x_{2} = 1 - \\frac{1}{r}$ - корни уравнения\n",
    "\n",
    "Для того, чтобы метод сходился к корню $x$ для какого-либо начального приближения $x^{0}$ из окрестности $x$, необходимо, чтобы в этой окрестности $|\\varphi'(x)| \\leq 1$\n",
    "\n",
    "Удовлетворим неравенству в точке $x_{1} = 0$: $|\\varphi'(x_{1})| \\leq 1 => |r - 2rx_{1}| \\leq 1 => |r| \\leq 1 => r \\leq 1$  \n",
    "То есть, для того, чтобы у корня $x_{1}$ существовала окрестность, в которой любое начальное приближение будет сходиться к $x_{1}$, необходимо $0 < r \\leq 1$, причем $r = 1$ - граничный случай, при котором $x_{1} = x_{2} = 0$. Окрестностью будет отрезок $[1 - \\frac{1}{r}; \\frac{1}{r}]$"
   ]
  },
  {
   "cell_type": "code",
   "execution_count": 8,
   "metadata": {
    "scrolled": true
   },
   "outputs": [],
   "source": [
    "def test1():\n",
    "    tests_r = 100\n",
    "    tests_x = 100\n",
    "    \n",
    "    (r_left, r_right) = (0.0, 0.99)\n",
    "    (toX1, toX2) = (0, 0)\n",
    "\n",
    "    for i in range(tests_r):\n",
    "        r = random.uniform(r_left, r_right)\n",
    "        for j in range(tests_x):\n",
    "            (x_left, x_right) = (1 - 1 / r, 1 / r)\n",
    "            x0 = random.uniform(x_left, x_right)\n",
    "            xn = iterate(x0, r)\n",
    "\n",
    "            (d1, d2) = (d(xn, x1), d(xn, x2(r)))\n",
    "\n",
    "            if d1 < d2:\n",
    "                toX1 += 1\n",
    "            else:\n",
    "                toX2 += 1\n",
    "    \n",
    "    return (toX1, toX2)\n",
    "    \n"
   ]
  },
  {
   "cell_type": "code",
   "execution_count": 9,
   "metadata": {},
   "outputs": [
    {
     "name": "stdout",
     "output_type": "stream",
     "text": [
      "(10000, 0)\n"
     ]
    }
   ],
   "source": [
    "print(test1())"
   ]
  },
  {
   "cell_type": "code",
   "execution_count": 10,
   "metadata": {},
   "outputs": [],
   "source": [
    "def points(x0, r):\n",
    "    xns = []\n",
    "\n",
    "    (x_cur, x_next) = (x0, phi(x0, r))\n",
    "    \n",
    "    xns.append(x_cur)    \n",
    "    xns.append(x_next)\n",
    "    \n",
    "    while (not isEnough(x_cur, x_next)):\n",
    "        (x_cur, x_next) = (x_next, phi(x_next, r))\n",
    "        xns.append(x_next)\n",
    "    return xns"
   ]
  },
  {
   "cell_type": "code",
   "execution_count": 11,
   "metadata": {},
   "outputs": [],
   "source": [
    "import matplotlib.pyplot as plt\n",
    "\n",
    "def showPlot(x_left, x_right, r, n = 10):\n",
    "    x0 = random.uniform(x_left, x_right)\n",
    "    xns = points(x0, r)\n",
    "    plt.plot(xns[0:n], linewidth = 2)\n",
    "    plt.show()"
   ]
  },
  {
   "cell_type": "code",
   "execution_count": 12,
   "metadata": {},
   "outputs": [
    {
     "data": {
      "image/png": "[encoded data removed]",
      "text/plain": [
       "<Figure size 432x288 with 1 Axes>"
      ]
     },
     "metadata": {
      "needs_background": "light"
     },
     "output_type": "display_data"
    },
    {
     "data": {
      "image/png": "[encoded data removed]",
      "text/plain": [
       "<Figure size 432x288 with 1 Axes>"
      ]
     },
     "metadata": {
      "needs_background": "light"
     },
     "output_type": "display_data"
    }
   ],
   "source": [
    "r = random.uniform(0.0, 0.99)\n",
    "showPlot(1 - 1 / r, 0, r)\n",
    "showPlot(0, 1, r)"
   ]
  },
  {
   "cell_type": "markdown",
   "metadata": {},
   "source": [
    "Удовлетворим неравенству в точке $x_{2} = \\frac{1}{r}$: $|\\varphi'(x_{2})| \\leq 1 => |r - 2rx_{2}| \\leq 1 => |2 - r| \\leq 1 => 1 \\leq r \\leq 3$  \n",
    "Окрестностью будет отрезок $[0; 1]$"
   ]
  },
  {
   "cell_type": "code",
   "execution_count": 13,
   "metadata": {},
   "outputs": [],
   "source": [
    "def test2():\n",
    "    tests_r = 100\n",
    "    tests_x = 100\n",
    "    \n",
    "    (r_left, r_right) = (1.0, 2.99)\n",
    "    (toX1, toX2) = (0, 0)\n",
    "\n",
    "    for i in range(tests_r):\n",
    "        r = random.uniform(r_left, r_right)\n",
    "        for j in range(tests_x):\n",
    "            (x_left, x_right) = (0.0, 1.0)\n",
    "            x0 = random.uniform(x_left, x_right)\n",
    "            xn = iterate(x0, r)\n",
    "\n",
    "            (d1, d2) = (d(xn, x1), d(xn, x2(r)))\n",
    "\n",
    "            if d1 < d2:\n",
    "                toX1 += 1\n",
    "            else:\n",
    "                toX2 += 1\n",
    "    \n",
    "    return (toX1, toX2)"
   ]
  },
  {
   "cell_type": "code",
   "execution_count": 14,
   "metadata": {},
   "outputs": [
    {
     "name": "stdout",
     "output_type": "stream",
     "text": [
      "(0, 10000)\n"
     ]
    }
   ],
   "source": [
    "print(test2())"
   ]
  },
  {
   "cell_type": "markdown",
   "metadata": {},
   "source": [
    "Однако, при $1 \\leq r \\leq 3$ имеют место два вида сходимости к $x_{2}$ - монотонная и колебаьельная.  \n",
    "Условие монотонной сходимости: $\\varphi'(x) > 0$ на отрезке локализации корня $x_{1}$  \n",
    "Условие колебательной сходимости: $\\varphi'(x) < 0$ на отрезке локализации корня $x_{1}$  \n",
    "Удовлетворим неравенствам в точке $x_{1} = 1 - \\frac{1}{r}$:  \n",
    "$2 - r > 0 => r < 2$  \n",
    "$2 - r < 0 => r > 2$\n",
    "\n",
    "То есть отрезок $[1; 3]$ разбивается на два полуинтервала:  \n",
    "$[1; 2)$ - монотонная сходимость  \n",
    "$(2; 3]$ - колебательная сходимость"
   ]
  },
  {
   "cell_type": "code",
   "execution_count": 15,
   "metadata": {},
   "outputs": [],
   "source": [
    "def detect_type(directions):\n",
    "    changes = 0\n",
    "    for i in range(1, len(directions)):\n",
    "        if (not (directions[i] == directions[i - 1])):\n",
    "            changes += 1\n",
    "    return float(changes) / len(directions) < 0.3"
   ]
  },
  {
   "cell_type": "code",
   "execution_count": 16,
   "metadata": {},
   "outputs": [],
   "source": [
    "def iterate2(x0, r):\n",
    "    x_exp = 1 - 1 / r\n",
    "    directions = []\n",
    "    \n",
    "    (x_cur, x_next) = (x0, phi(x0, r))\n",
    "    \n",
    "    directions.append(x_cur < x_exp)\n",
    "    directions.append(x_next < x_exp)\n",
    "    \n",
    "    while (not isEnough(x_cur, x_next)):\n",
    "        (x_cur, x_next) = (x_next, phi(x_next, r))\n",
    "        directions.append(x_next < x_exp)\n",
    "\n",
    "    return detect_type(directions)"
   ]
  },
  {
   "cell_type": "code",
   "execution_count": 17,
   "metadata": {},
   "outputs": [],
   "source": [
    "def test3():\n",
    "    tests_r = 100\n",
    "    tests_x = 100\n",
    "    \n",
    "    (r_left, r_right) = (1.0, 1.99)\n",
    "    (mon, fluct) = (0, 0)\n",
    "\n",
    "    for i in range(tests_r):\n",
    "        r = random.uniform(r_left, r_right)\n",
    "        for j in range(tests_x):\n",
    "            (x_left, x_right) = (0.0, 1.0)\n",
    "            x0 = random.uniform(x_left, x_right)\n",
    "            t = iterate2(x0, r)\n",
    "\n",
    "            if (t):\n",
    "                mon += 1\n",
    "            else:\n",
    "                fluct += 1\n",
    "    \n",
    "    return (mon, fluct)"
   ]
  },
  {
   "cell_type": "code",
   "execution_count": 18,
   "metadata": {},
   "outputs": [
    {
     "name": "stdout",
     "output_type": "stream",
     "text": [
      "(10000, 0)\n"
     ]
    }
   ],
   "source": [
    "print(test3())"
   ]
  },
  {
   "cell_type": "code",
   "execution_count": 105,
   "metadata": {},
   "outputs": [
    {
     "data": {
      "image/png": "[encoded data removed]",
      "text/plain": [
       "<Figure size 432x288 with 1 Axes>"
      ]
     },
     "metadata": {
      "needs_background": "light"
     },
     "output_type": "display_data"
    }
   ],
   "source": [
    "r = random.uniform(1.0, 1.99)\n",
    "showPlot(0, 0.5, r)"
   ]
  },
  {
   "cell_type": "code",
   "execution_count": 20,
   "metadata": {},
   "outputs": [],
   "source": [
    "def test4():\n",
    "    tests_r = 100\n",
    "    tests_x = 100\n",
    "    \n",
    "    (r_left, r_right) = (1.99, 2.99)\n",
    "    (mon, fluct) = (0, 0)\n",
    "\n",
    "    for i in range(tests_r):\n",
    "        r = random.uniform(r_left, r_right)\n",
    "        for j in range(tests_x):\n",
    "            (x_left, x_right) = (0.0, 1.0)\n",
    "            x0 = random.uniform(x_left, x_right)\n",
    "            t = iterate2(x0, r)\n",
    "\n",
    "            if (t):\n",
    "                mon += 1\n",
    "            else:\n",
    "                fluct += 1\n",
    "    \n",
    "    return (mon, fluct)"
   ]
  },
  {
   "cell_type": "code",
   "execution_count": 21,
   "metadata": {},
   "outputs": [
    {
     "name": "stdout",
     "output_type": "stream",
     "text": [
      "(9, 9991)\n"
     ]
    }
   ],
   "source": [
    "print(test4())"
   ]
  },
  {
   "cell_type": "code",
   "execution_count": 99,
   "metadata": {},
   "outputs": [
    {
     "name": "stdout",
     "output_type": "stream",
     "text": [
      "2.9106114012306636\n"
     ]
    },
    {
     "data": {
      "image/png": "[encoded data removed]",
      "text/plain": [
       "<Figure size 432x288 with 1 Axes>"
      ]
     },
     "metadata": {
      "needs_background": "light"
     },
     "output_type": "display_data"
    }
   ],
   "source": [
    "r = random.uniform(2.0, 2.99)\n",
    "#r = 2.9106114012306636\n",
    "showPlot(0.5, 0.6, r, 100)"
   ]
  },
  {
   "cell_type": "code",
   "execution_count": 23,
   "metadata": {},
   "outputs": [],
   "source": [
    "def traectory(x0, r):\n",
    "    xs, ys = [], []\n",
    "    \n",
    "    (x_cur, x_next) = (x0, phi(x0, r))\n",
    "    xs.append(x_cur)\n",
    "    ys.append(x_next)\n",
    "\n",
    "    while (not isEnough(x_cur, x_next)):\n",
    "        xs.append(x_next)\n",
    "        ys.append(x_next)\n",
    "        \n",
    "        (x_cur, x_next) = (x_next, phi(x_next, r))\n",
    "        \n",
    "        xs.append(x_cur)\n",
    "        ys.append(x_next)\n",
    "        \n",
    "    return (xs, ys)"
   ]
  },
  {
   "cell_type": "code",
   "execution_count": 74,
   "metadata": {},
   "outputs": [
    {
     "data": {
      "image/png": "[encoded data removed]",
      "text/plain": [
       "<Figure size 432x288 with 1 Axes>"
      ]
     },
     "metadata": {
      "needs_background": "light"
     },
     "output_type": "display_data"
    },
    {
     "data": {
      "image/png": "[encoded data removed]",
      "text/plain": [
       "<Figure size 432x288 with 1 Axes>"
      ]
     },
     "metadata": {
      "needs_background": "light"
     },
     "output_type": "display_data"
    },
    {
     "data": {
      "image/png": "[encoded data removed]",
      "text/plain": [
       "<Figure size 432x288 with 1 Axes>"
      ]
     },
     "metadata": {
      "needs_background": "light"
     },
     "output_type": "display_data"
    }
   ],
   "source": [
    "import numpy as np\n",
    "import matplotlib.pyplot as plt\n",
    "\n",
    "def parabola(r, xs):\n",
    "    return np.array([r * x * (1 - x) for x in xs])\n",
    "\n",
    "def showPlot2(r, x0):\n",
    "    (t_x, t_y) = traectory(x0, r) \n",
    "    \n",
    "    x_l = np.min(t_x)\n",
    "    x_r = np.max(t_x)\n",
    "    \n",
    "    x = np.arange(x_l, x_r, 0.01)\n",
    "    \n",
    "    yp = parabola(r, x)\n",
    "    \n",
    "    plt.plot(x, yp)\n",
    "    plt.plot(x, x)\n",
    "    plt.plot(t_x, t_y)\n",
    "    plt.grid(True)\n",
    "    plt.show()\n",
    "\n",
    "r = random.uniform(0.0, 0.99)\n",
    "x0 = random.uniform(1 - 1/r, max(1 - 1/r + 0.1, 0))\n",
    "#r = 0.22849145787460157\n",
    "#x0 = -2.3845590769850524\n",
    "showPlot2(r, x0)\n",
    "\n",
    "\n",
    "\n",
    "r = random.uniform(1.0, 1.99)\n",
    "x0 = random.uniform(0, 1.0)\n",
    "#r = 1.6582888881912101\n",
    "#x0 = 0.9901834842541917\n",
    "showPlot2(r, x0)\n",
    "\n",
    "\n",
    "\n",
    "r = random.uniform(2.0, 2.99)\n",
    "x0 = random.uniform(0.5, 0.6)\n",
    "#r = 2.919179838674964\n",
    "#x0 = 0.5527225589515035\n",
    "showPlot2(r, x0)"
   ]
  },
  {
   "cell_type": "code",
   "execution_count": null,
   "metadata": {},
   "outputs": [],
   "source": []
  }
 ],
 "metadata": {
  "celltoolbar": "Raw Cell Format",
  "kernelspec": {
   "display_name": "Python 3",
   "language": "python",
   "name": "python3"
  },
  "language_info": {
   "codemirror_mode": {
    "name": "ipython",
    "version": 3
   },
   "file_extension": ".py",
   "mimetype": "text/x-python",
   "name": "python",
   "nbconvert_exporter": "python",
   "pygments_lexer": "ipython3",
   "version": "3.7.2"
  }
 },
 "nbformat": 4,
 "nbformat_minor": 2
}
