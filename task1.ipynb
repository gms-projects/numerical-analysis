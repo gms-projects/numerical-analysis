{
 "cells": [
  {
   "cell_type": "code",
   "execution_count": 1,
   "metadata": {},
   "outputs": [],
   "source": [
    "import matplotlib.pyplot as plt\n",
    "import numpy as np"
   ]
  },
  {
   "cell_type": "code",
   "execution_count": 2,
   "metadata": {},
   "outputs": [
    {
     "data": {
      "image/png": "[encoded data removed]",
      "text/plain": [
       "<Figure size 432x288 with 1 Axes>"
      ]
     },
     "metadata": {
      "needs_background": "light"
     },
     "output_type": "display_data"
    }
   ],
   "source": [
    "x = np.linspace(-4, 4)\n",
    "y = 4 * x ** 3 + 6 * x ** 2 - 20 * x - 13\n",
    "plt.plot(x, y)\n",
    "plt.grid(True)\n",
    "xs = [-3.5, -2.5, -1, 0, 1.5, 2.5]\n",
    "sec_y = np.linspace(-100, 250)\n",
    "for x_ in xs:\n",
    "    plt.plot(sec_y * 0 + x_, sec_y)"
   ]
  },
  {
   "cell_type": "code",
   "execution_count": 3,
   "metadata": {},
   "outputs": [
    {
     "name": "stdout",
     "output_type": "stream",
     "text": [
      "-0.5\n",
      "-0.75\n",
      "-0.625\n",
      "-0.5625\n",
      "-0.59375\n",
      "-0.578125\n",
      "-0.5859375\n",
      "-0.58984375\n",
      "-0.587890625\n",
      "-0.5869140625\n",
      "-0.58740234375\n",
      "-0.587158203125\n",
      "-0.5870361328125\n",
      "-0.58709716796875\n",
      "-0.587066650390625\n",
      "-0.5870819091796875\n",
      "-0.5870742797851562\n",
      "-0.5870742797851562\n"
     ]
    }
   ],
   "source": [
    "eps = 0.00001\n",
    "\n",
    "def y(x):\n",
    "    return 4 * x ** 3 + 6 * x ** 2 - 20 * x - 13\n",
    "\n",
    "def half_division(a, b):\n",
    "    l = a\n",
    "    r = b\n",
    "    while (r - l > eps):\n",
    "        m = (l + r) / 2.0\n",
    "        print(m)\n",
    "        if (y(m) >= 0):\n",
    "            l = m\n",
    "        else:\n",
    "            r = m\n",
    "    return l\n",
    "\n",
    "print(half_division(-1.0, 0.0))"
   ]
  },
  {
   "cell_type": "code",
   "execution_count": 4,
   "metadata": {},
   "outputs": [
    {
     "name": "stdout",
     "output_type": "stream",
     "text": [
      "9.5\n",
      "3777.5\n",
      "215697784689.5\n",
      "4.0141818737520043e+34\n",
      "2.5873258519580273e+104\n"
     ]
    },
    {
     "ename": "OverflowError",
     "evalue": "(34, 'Result too large')",
     "output_type": "error",
     "traceback": [
      "\u001b[0;31m---------------------------------------------------------------------------\u001b[0m",
      "\u001b[0;31mOverflowError\u001b[0m                             Traceback (most recent call last)",
      "\u001b[0;32m<ipython-input-4-eb1dc662d448>\u001b[0m in \u001b[0;36m<module>\u001b[0;34m\u001b[0m\n\u001b[1;32m     13\u001b[0m     \u001b[0;32mreturn\u001b[0m \u001b[0mx_next\u001b[0m\u001b[0;34m\u001b[0m\u001b[0;34m\u001b[0m\u001b[0m\n\u001b[1;32m     14\u001b[0m \u001b[0;34m\u001b[0m\u001b[0m\n\u001b[0;32m---> 15\u001b[0;31m \u001b[0mprint\u001b[0m\u001b[0;34m(\u001b[0m\u001b[0msimple_iter\u001b[0m\u001b[0;34m(\u001b[0m\u001b[0;34m-\u001b[0m\u001b[0;36m0.5\u001b[0m\u001b[0;34m)\u001b[0m\u001b[0;34m)\u001b[0m\u001b[0;34m\u001b[0m\u001b[0;34m\u001b[0m\u001b[0m\n\u001b[0m",
      "\u001b[0;32m<ipython-input-4-eb1dc662d448>\u001b[0m in \u001b[0;36msimple_iter\u001b[0;34m(x_0)\u001b[0m\n\u001b[1;32m      9\u001b[0m     \u001b[0;32mwhile\u001b[0m \u001b[0;34m(\u001b[0m\u001b[0mabs\u001b[0m\u001b[0;34m(\u001b[0m\u001b[0mx_next\u001b[0m \u001b[0;34m-\u001b[0m \u001b[0mx_cur\u001b[0m\u001b[0;34m)\u001b[0m \u001b[0;34m>\u001b[0m \u001b[0meps\u001b[0m\u001b[0;34m)\u001b[0m\u001b[0;34m:\u001b[0m\u001b[0;34m\u001b[0m\u001b[0;34m\u001b[0m\u001b[0m\n\u001b[1;32m     10\u001b[0m         \u001b[0mx_cur\u001b[0m \u001b[0;34m=\u001b[0m \u001b[0mx_next\u001b[0m\u001b[0;34m\u001b[0m\u001b[0;34m\u001b[0m\u001b[0m\n\u001b[0;32m---> 11\u001b[0;31m         \u001b[0mx_next\u001b[0m \u001b[0;34m=\u001b[0m \u001b[0mphi\u001b[0m\u001b[0;34m(\u001b[0m\u001b[0mx_next\u001b[0m\u001b[0;34m)\u001b[0m\u001b[0;34m\u001b[0m\u001b[0;34m\u001b[0m\u001b[0m\n\u001b[0m\u001b[1;32m     12\u001b[0m         \u001b[0mprint\u001b[0m\u001b[0;34m(\u001b[0m\u001b[0mx_next\u001b[0m\u001b[0;34m)\u001b[0m\u001b[0;34m\u001b[0m\u001b[0;34m\u001b[0m\u001b[0m\n\u001b[1;32m     13\u001b[0m     \u001b[0;32mreturn\u001b[0m \u001b[0mx_next\u001b[0m\u001b[0;34m\u001b[0m\u001b[0;34m\u001b[0m\u001b[0m\n",
      "\u001b[0;32m<ipython-input-4-eb1dc662d448>\u001b[0m in \u001b[0;36mphi\u001b[0;34m(x)\u001b[0m\n\u001b[1;32m      2\u001b[0m \u001b[0;34m\u001b[0m\u001b[0m\n\u001b[1;32m      3\u001b[0m \u001b[0;32mdef\u001b[0m \u001b[0mphi\u001b[0m\u001b[0;34m(\u001b[0m\u001b[0mx\u001b[0m\u001b[0;34m)\u001b[0m\u001b[0;34m:\u001b[0m\u001b[0;34m\u001b[0m\u001b[0;34m\u001b[0m\u001b[0m\n\u001b[0;32m----> 4\u001b[0;31m     \u001b[0;32mreturn\u001b[0m \u001b[0;36m4\u001b[0m \u001b[0;34m*\u001b[0m \u001b[0mx\u001b[0m \u001b[0;34m**\u001b[0m \u001b[0;36m3\u001b[0m \u001b[0;34m+\u001b[0m \u001b[0;36m6\u001b[0m \u001b[0;34m*\u001b[0m \u001b[0mx\u001b[0m \u001b[0;34m**\u001b[0m \u001b[0;36m2\u001b[0m \u001b[0;34m-\u001b[0m \u001b[0;36m19\u001b[0m \u001b[0;34m*\u001b[0m \u001b[0mx\u001b[0m \u001b[0;34m-\u001b[0m \u001b[0;36m13\u001b[0m\u001b[0;34m\u001b[0m\u001b[0;34m\u001b[0m\u001b[0m\n\u001b[0m\u001b[1;32m      5\u001b[0m \u001b[0;34m\u001b[0m\u001b[0m\n\u001b[1;32m      6\u001b[0m \u001b[0;32mdef\u001b[0m \u001b[0msimple_iter\u001b[0m\u001b[0;34m(\u001b[0m\u001b[0mx_0\u001b[0m\u001b[0;34m)\u001b[0m\u001b[0;34m:\u001b[0m\u001b[0;34m\u001b[0m\u001b[0;34m\u001b[0m\u001b[0m\n",
      "\u001b[0;31mOverflowError\u001b[0m: (34, 'Result too large')"
     ]
    }
   ],
   "source": [
    "eps = 0.00001\n",
    "\n",
    "def phi(x):\n",
    "    return 4 * x ** 3 + 6 * x ** 2 - 19 * x - 13\n",
    "\n",
    "def simple_iter(x_0):\n",
    "    x_cur = x_0\n",
    "    x_next = phi(x_cur)\n",
    "    while (abs(x_next - x_cur) > eps):\n",
    "        x_cur = x_next\n",
    "        x_next = phi(x_next)\n",
    "        print(x_next)\n",
    "    return x_next\n",
    "\n",
    "print(simple_iter(-0.5))"
   ]
  },
  {
   "cell_type": "code",
   "execution_count": 5,
   "metadata": {},
   "outputs": [
    {
     "name": "stdout",
     "output_type": "stream",
     "text": [
      "-0.5870713252994758\n",
      "-0.5870713259000666\n",
      "-0.5870713259000666\n"
     ]
    }
   ],
   "source": [
    "eps = 0.00001\n",
    "\n",
    "def y(x):\n",
    "    return 4 * x ** 3 + 6 * x ** 2 - 20 * x - 13\n",
    "    \n",
    "def y_der(x):\n",
    "    return 12 * x ** 2 + 12 * x - 20\n",
    "    \n",
    "def get_next(x):\n",
    "    return x - y(x) / y_der(x)\n",
    "\n",
    "def newton(x_0):\n",
    "    x_cur = x_0\n",
    "    x_next = get_next(x_cur)\n",
    "    while (abs(x_next - x_cur) > eps):\n",
    "        x_cur = x_next\n",
    "        x_next = get_next(x_next)\n",
    "        print(x_next)\n",
    "    return x_next\n",
    "\n",
    "print(newton(-0.5))"
   ]
  },
  {
   "cell_type": "code",
   "execution_count": null,
   "metadata": {},
   "outputs": [],
   "source": []
  }
 ],
 "metadata": {
  "kernelspec": {
   "display_name": "Python 3",
   "language": "python",
   "name": "python3"
  },
  "language_info": {
   "codemirror_mode": {
    "name": "ipython",
    "version": 3
   },
   "file_extension": ".py",
   "mimetype": "text/x-python",
   "name": "python",
   "nbconvert_exporter": "python",
   "pygments_lexer": "ipython3",
   "version": "3.7.2"
  }
 },
 "nbformat": 4,
 "nbformat_minor": 2
}
