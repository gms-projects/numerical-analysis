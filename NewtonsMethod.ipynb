{
 "cells": [
  {
   "cell_type": "code",
   "execution_count": 1,
   "metadata": {},
   "outputs": [],
   "source": [
    "def target_f(x):\n",
    "    return (x ** 3) - 1"
   ]
  },
  {
   "cell_type": "code",
   "execution_count": 2,
   "metadata": {},
   "outputs": [],
   "source": [
    "def newton_iteration(prev):\n",
    "    return prev - (((prev ** 3) - 1) / (3 * (prev ** 2)))"
   ]
  },
  {
   "cell_type": "code",
   "execution_count": 3,
   "metadata": {},
   "outputs": [],
   "source": [
    "target_zeros = [1, complex(-1, 0) ** (2 / 3), -(complex(-1, 0) ** (1 / 3))]"
   ]
  },
  {
   "cell_type": "code",
   "execution_count": 7,
   "metadata": {},
   "outputs": [
    {
     "name": "stdout",
     "output_type": "stream",
     "text": [
      "Value on point 1.00 is 0.00\n",
      "Value on point -0.50+0.87j is 0.00-0.00j\n",
      "Value on point -0.50-0.87j is 0.00-0.00j\n"
     ]
    }
   ],
   "source": [
    "for i in target_zeros:\n",
    "    print('Value on point {:.2f} is {:.2f}'.format(i, target_f(i)))"
   ]
  },
  {
   "cell_type": "code",
   "execution_count": 46,
   "metadata": {},
   "outputs": [],
   "source": [
    "def newton_method(start, eps, maxIter):\n",
    "    current = start\n",
    "    for i in range(0, maxIter):\n",
    "        if current == 0:\n",
    "            return -1\n",
    "        \n",
    "        current = current - ((current ** 3 - 1) / (3 * (current ** 2)))\n",
    "        for i, current_zero in enumerate(target_zeros):\n",
    "            diff = current - current_zero\n",
    "            if (abs(diff.real) < eps and abs(diff.imag) < eps):\n",
    "                return i\n",
    "    return -1"
   ]
  },
  {
   "cell_type": "code",
   "execution_count": 18,
   "metadata": {},
   "outputs": [
    {
     "data": {
      "text/plain": [
       "(-0.4999999999999998+0.8660254037844388j)"
      ]
     },
     "execution_count": 18,
     "metadata": {},
     "output_type": "execute_result"
    }
   ],
   "source": [
    "newton_method(complex(0, 1), 0, 100000)"
   ]
  },
  {
   "cell_type": "code",
   "execution_count": null,
   "metadata": {},
   "outputs": [],
   "source": [
    "import matplotlib.pyplot as plt\n",
    "import matplotlib.cm as cm\n",
    "\n",
    "root1x = []\n",
    "root1y = []\n",
    "root2x = []\n",
    "root2y = []\n",
    "root3x = []\n",
    "root3y = []\n",
    "norootx = []\n",
    "norooty = []\n",
    "for r in range (-2000, 2000):\n",
    "    for i in range (-2000, 2000):\n",
    "        result = newton_method(complex(r / 1000, i / 1000), 10e-5, 100000)\n",
    "        if result == 0:\n",
    "            root1x.append(r / 1000)\n",
    "            root1y.append(i / 1000)\n",
    "        elif result == 1:\n",
    "            root2x.append(r / 1000)\n",
    "            root2y.append(i / 1000)\n",
    "        elif result == 2:\n",
    "            root3x.append(r / 1000)\n",
    "            root3y.append(i / 1000)\n",
    "        else:\n",
    "            norootx.append(r / 1000)\n",
    "            norooty.append(i / 1000)\n",
    "        \n",
    "            \n",
    "plt.scatter(root1x, root1y, c='red', marker=\",\")\n",
    "plt.scatter(root2x, root2y, c='green', marker=\",\")\n",
    "plt.scatter(root3x, root3y, c='blue', marker=\",\")\n",
    "plt.scatter(norootx, norooty, c='black', marker=\",\")\n",
    "plt.show()\n"
   ]
  }
 ],
 "metadata": {
  "kernelspec": {
   "display_name": "Python 3",
   "language": "python",
   "name": "python3"
  },
  "language_info": {
   "codemirror_mode": {
    "name": "ipython",
    "version": 3
   },
   "file_extension": ".py",
   "mimetype": "text/x-python",
   "name": "python",
   "nbconvert_exporter": "python",
   "pygments_lexer": "ipython3",
   "version": "3.7.2"
  }
 },
 "nbformat": 4,
 "nbformat_minor": 2
}
