{
 "cells": [
  {
   "cell_type": "code",
   "execution_count": 1,
   "metadata": {},
   "outputs": [],
   "source": [
    "def target_f(x):\n",
    "    return (x ** 3) - 1"
   ]
  },
  {
   "cell_type": "code",
   "execution_count": 2,
   "metadata": {},
   "outputs": [],
   "source": [
    "def newton_iteration(prev):\n",
    "    return prev - (((prev ** 3) - 1) / (3 * (prev ** 2)))"
   ]
  },
  {
   "cell_type": "code",
   "execution_count": 3,
   "metadata": {},
   "outputs": [],
   "source": [
    "target_zeros = [1, complex(-1, 0) ** (2 / 3), -(complex(-1, 0) ** (1 / 3))]"
   ]
  },
  {
   "cell_type": "code",
   "execution_count": 4,
   "metadata": {},
   "outputs": [
    {
     "name": "stdout",
     "output_type": "stream",
     "text": [
      "Value on point 1.00 is 0.00\n",
      "Value on point -0.50+0.87j is -0.00-0.00j\n",
      "Value on point -0.50-0.87j is 0.00-0.00j\n"
     ]
    }
   ],
   "source": [
    "for i in target_zeros:\n",
    "    print('Value on point {:.2f} is {:.2f}'.format(i, target_f(i)))"
   ]
  },
  {
   "cell_type": "code",
   "execution_count": 5,
   "metadata": {},
   "outputs": [],
   "source": [
    "def newton_method(start, eps, maxIter):\n",
    "    current = start\n",
    "    for i in range(0, maxIter):\n",
    "        if current == 0:\n",
    "            return -1\n",
    "        \n",
    "        current = current - ((current ** 3 - 1) / (3 * (current ** 2)))\n",
    "        for i, current_zero in enumerate(target_zeros):\n",
    "            diff = current - current_zero\n",
    "            if (abs(diff.real) < eps and abs(diff.imag) < eps):\n",
    "                return i\n",
    "    return -1"
   ]
  },
  {
   "cell_type": "code",
   "execution_count": 6,
   "metadata": {
    "scrolled": true
   },
   "outputs": [
    {
     "name": "stdout",
     "output_type": "stream",
     "text": [
      "(300, 300)\n",
      "(300, 300)\n",
      "(300, 300)\n",
      "Starting draw\n"
     ]
    },
    {
     "data": {
      "text/plain": [
       "<Figure size 640x480 with 1 Axes>"
      ]
     },
     "metadata": {},
     "output_type": "display_data"
    }
   ],
   "source": [
    "import numpy as np\n",
    "import matplotlib.pyplot as plt\n",
    "\n",
    "x_resolution = 300\n",
    "y_resolution = 300\n",
    "\n",
    "def nm_applied(x, y):\n",
    "    return newton_method(complex(x, y), 10e-5, 10000)\n",
    "\n",
    "nm_vectorized = np.vectorize(nm_applied)\n",
    "\n",
    "x = np.linspace(start=-2, stop=2, num=x_resolution)\n",
    "y = np.linspace(start=-2, stop=2, num=y_resolution)\n",
    "\n",
    "xx, yy = np.meshgrid(x, y)\n",
    "\n",
    "\n",
    "result = nm_vectorized(xx, yy)\n",
    "\n",
    "print(xx.shape)\n",
    "print(yy.shape)\n",
    "print(result.shape)\n",
    "\n",
    "print('Starting draw')\n",
    "plt.scatter(xx, yy, c=result)\n",
    "\n",
    "plt.show()"
   ]
  },
  {
   "cell_type": "code",
   "execution_count": null,
   "metadata": {},
   "outputs": [],
   "source": []
  }
 ],
 "metadata": {
  "kernelspec": {
   "display_name": "Python 3",
   "language": "python",
   "name": "python3"
  },
  "language_info": {
   "codemirror_mode": {
    "name": "ipython",
    "version": 3
   },
   "file_extension": ".py",
   "mimetype": "text/x-python",
   "name": "python",
   "nbconvert_exporter": "python",
   "pygments_lexer": "ipython3",
   "version": "3.7.2"
  }
 },
 "nbformat": 4,
 "nbformat_minor": 2
}
