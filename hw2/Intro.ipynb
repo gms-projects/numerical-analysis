{
 "cells": [
  {
   "cell_type": "markdown",
   "metadata": {},
   "source": [
    "Традиционным примером очень плохо обусловленной матрицы является матрица Гильберта"
   ]
  },
  {
   "cell_type": "markdown",
   "metadata": {},
   "source": [
    "Матрицей Гильберта называется квадратная матрица H с элементами:\n",
    "![title](2.svg)"
   ]
  },
  {
   "cell_type": "markdown",
   "metadata": {},
   "source": [
    "Например, матрица Гильберта 5 × 5 имеет вид:\n",
    "![title](1.svg)"
   ]
  },
  {
   "cell_type": "markdown",
   "metadata": {},
   "source": [
    "Число обусловленности матрицы Гильберта n × n возрастает как ![title](3.svg)"
   ]
  },
  {
   "cell_type": "markdown",
   "metadata": {},
   "source": [
    "| Порядок матрицы Гильберта                   | 2                  | 3                  | 4                  | 5                  | 6                  | 7                  | 8                   | 9                   |\n",
    "|---------------------------------------------|--------------------|--------------------|--------------------|--------------------|--------------------|--------------------|---------------------|---------------------|\n",
    "| Приближенное значение  числа обусловенности | $$2 * {10} ^ {1}$$ | $$5 * {10} ^ {2}$$ | $$2 * {10} ^ {4}$$ | $$5 * {10} ^ {5}$$ | $$2 * {10} ^ {7}$$ | $$5 * {10} ^ {8}$$ | $$2 * {10} ^ {10}$$ | $$5 * {10} ^ {11}$$ |"
   ]
  },
  {
   "cell_type": "code",
   "execution_count": null,
   "metadata": {},
   "outputs": [],
   "source": []
  },
  {
   "cell_type": "code",
   "execution_count": null,
   "metadata": {},
   "outputs": [],
   "source": []
  },
  {
   "cell_type": "code",
   "execution_count": null,
   "metadata": {},
   "outputs": [],
   "source": []
  },
  {
   "cell_type": "code",
   "execution_count": null,
   "metadata": {},
   "outputs": [],
   "source": []
  },
  {
   "cell_type": "code",
   "execution_count": null,
   "metadata": {},
   "outputs": [],
   "source": []
  },
  {
   "cell_type": "markdown",
   "metadata": {},
   "source": [
    "В качестве недостатка приближенных методов можно отметить то, что они часто расходятся, достаточные условия сходимости (преобладание диагональных элементов) можно обеспечить только для небольших систем из 3 – 6 уравнений."
   ]
  }
 ],
 "metadata": {
  "kernelspec": {
   "display_name": "Python 3",
   "language": "python",
   "name": "python3"
  },
  "language_info": {
   "codemirror_mode": {
    "name": "ipython",
    "version": 3
   },
   "file_extension": ".py",
   "mimetype": "text/x-python",
   "name": "python",
   "nbconvert_exporter": "python",
   "pygments_lexer": "ipython3",
   "version": "3.7.2"
  }
 },
 "nbformat": 4,
 "nbformat_minor": 2
}
