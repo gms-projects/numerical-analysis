{
 "cells": [
  {
   "cell_type": "code",
   "execution_count": 1,
   "metadata": {},
   "outputs": [],
   "source": [
    "import math\n",
    "import numpy as np"
   ]
  },
  {
   "cell_type": "code",
   "execution_count": 2,
   "metadata": {},
   "outputs": [],
   "source": [
    "def randomMatrix(n):\n",
    "    return np.random.rand(n, n) * 20 - 10\n",
    "\n",
    "def randomVector(n):\n",
    "    return np.random.rand(n) * 20 - 10\n",
    "\n",
    "def randomInt(a, b):\n",
    "    return int(np.random.rand() * (b - a) + a)\n",
    "\n",
    "def randomInput(n = -1):\n",
    "    if n == -1:\n",
    "        n = randomInt(3, 500)\n",
    "\n",
    "        return (randomMatrix(n), randomVector(n))\n",
    "\n",
    "def genHilbert(n):\n",
    "    H = np.zeros((n, n))\n",
    "    for i in range(n):\n",
    "        for j in range(n):\n",
    "            H[i, j] = 1.0 / (i + j + 1.0)\n",
    "    return H\n",
    "\n",
    "def hilbert(n = -1):\n",
    "    if (n == -1):\n",
    "        n = randomInt(3, 500)\n",
    "    \n",
    "    return (genHilbert(n), randomVector(n))"
   ]
  },
  {
   "cell_type": "code",
   "execution_count": 3,
   "metadata": {},
   "outputs": [],
   "source": [
    "def swap(arr, frm, to):\n",
    "    arr[[frm, to],:] = arr[[to, frm],:]"
   ]
  },
  {
   "cell_type": "code",
   "execution_count": 4,
   "metadata": {},
   "outputs": [],
   "source": [
    "def gauss_column_pivot(A, b):\n",
    "    Ab = np.transpose(np.append(np.transpose(A), [b], 0))\n",
    "    n = len(A)\n",
    "    \n",
    "    for k in range(n - 1):\n",
    "        p = k + np.argmax(np.abs(Ab[k:, k]))\n",
    "        swap(Ab, k, p)\n",
    "        \n",
    "        for r in range(k + 1, n):\n",
    "            Ab[r] = Ab[r] - (Ab[k] * (Ab[r, k] / Ab[k, k]))\n",
    "\n",
    "    for k in range(n):\n",
    "        Ab[k] = Ab[k] / Ab[k, k]\n",
    "    \n",
    "    x = np.zeros(n)\n",
    "    x[n - 1] = Ab[n - 1, n]\n",
    "\n",
    "    for k in reversed(range(n - 1)):\n",
    "        x[k] = Ab[k, n] - (np.dot(x[k + 1:], Ab[k, k + 1:n]))\n",
    "\n",
    "    return x"
   ]
  },
  {
   "cell_type": "code",
   "execution_count": 5,
   "metadata": {},
   "outputs": [],
   "source": [
    "def runWith(inputs, printInput = False, printAnswer = False):\n",
    "    (A, b) = inputs\n",
    "    x = gauss_column_pivot(A, b)\n",
    "    expected = np.linalg.solve(A, b)\n",
    "\n",
    "    if (printInput):\n",
    "        print(\"A:\")\n",
    "        print(A)\n",
    "        print()\n",
    "        print(\"b:\")\n",
    "        print(b)\n",
    "        print()\n",
    "\n",
    "    if (printAnswer):\n",
    "        print(\"Actual: \")\n",
    "        print(x)\n",
    "        print()\n",
    "\n",
    "        print(\"Expected: \")\n",
    "        print(expected)\n",
    "        print()\n",
    "\n",
    "    return np.allclose(x, expected, rtol = 0.01)    \n",
    "    \n",
    "def run(inputFactory, n = -1, printInput = False, printAnswer = False):\n",
    "    if (n == -1):\n",
    "        return runWith(inputFactory(), printInput, printAnswer)\n",
    "    else:\n",
    "        return runWith(inputFactory(n), printInput, printAnswer)"
   ]
  },
  {
   "cell_type": "code",
   "execution_count": 6,
   "metadata": {},
   "outputs": [
    {
     "name": "stdout",
     "output_type": "stream",
     "text": [
      "1 Passed\n",
      "2 Passed\n",
      "3 Passed\n",
      "4 Passed\n",
      "5 Passed\n",
      "6 Passed\n",
      "7 Passed\n",
      "8 Passed\n",
      "9 Passed\n",
      "10 Passed\n",
      "11 Passed\n",
      "12 Failed\n"
     ]
    }
   ],
   "source": [
    "def runHilbertWhile():    \n",
    "    n = 1\n",
    "    while run(hilbert, n):\n",
    "        print(n, \"Passed\")\n",
    "        n = n + 1\n",
    "    print(n, \"Failed\")\n",
    "\n",
    "def runRandomWhile():\n",
    "    n = 1\n",
    "    while run(randomInput):\n",
    "        print(n, \"Passed\")\n",
    "        n = n + 1\n",
    "    print(n, \"Failed\")\n",
    "        \n",
    "# runRandomWhile()\n",
    "# runHilbertWhile()"
   ]
  }
 ],
 "metadata": {
  "kernelspec": {
   "display_name": "Python 3",
   "language": "python",
   "name": "python3"
  },
  "language_info": {
   "codemirror_mode": {
    "name": "ipython",
    "version": 3
   },
   "file_extension": ".py",
   "mimetype": "text/x-python",
   "name": "python",
   "nbconvert_exporter": "python",
   "pygments_lexer": "ipython3",
   "version": "3.7.2"
  }
 },
 "nbformat": 4,
 "nbformat_minor": 2
}
