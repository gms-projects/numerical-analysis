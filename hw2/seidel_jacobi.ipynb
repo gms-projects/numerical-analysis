{
 "cells": [
  {
   "cell_type": "code",
   "execution_count": 5,
   "metadata": {},
   "outputs": [],
   "source": [
    "import math\n",
    "import numpy as np"
   ]
  },
  {
   "cell_type": "code",
   "execution_count": 55,
   "metadata": {},
   "outputs": [],
   "source": [
    "def dist(x, y):\n",
    "    return math.sqrt(sum((x[i] - y[i]) ** 2 for i in range(len(x))))\n",
    "\n",
    "\n",
    "def seidel(A, b, eps):\n",
    "    n = len(A)\n",
    "    B = []\n",
    "    d = []\n",
    "    for i in range (0, n):\n",
    "        d.append(b[i] / A[i][i])\n",
    "        B.append([])\n",
    "        for j in range (0, n):\n",
    "            B[i].append(-A[i][j] / A[i][i])\n",
    "        B[i][i] = 0.0\n",
    "    \n",
    "    detB = np.linalg.det(B)\n",
    "    eps1 = eps\n",
    "    if (detB >= 0.5):\n",
    "        eps1 *= (1.0 - detB) / detB\n",
    "        \n",
    "    x_next = d.copy()\n",
    "    x_cur = x_next.copy()\n",
    "    iter_num = 0\n",
    "    while(dist(x_next, x_cur) >= eps1 or iter_num == 0):\n",
    "        x_cur = x_next.copy()\n",
    "        for i in range (0, n):\n",
    "            x_next[i] = d[i]\n",
    "            for j in range (0, n):\n",
    "                # Отличие от Якоби только в том, что мы сразу можем использовать\n",
    "                # уже посчитанные x_next.\n",
    "                x_next[i] += B[i][j] * (x_next[j] if i < j else x_cur[j])\n",
    "        iter_num += 1\n",
    "    \n",
    "    return (x_next, iter_num)"
   ]
  },
  {
   "cell_type": "code",
   "execution_count": 56,
   "metadata": {},
   "outputs": [
    {
     "name": "stdout",
     "output_type": "stream",
     "text": [
      "[0.9999897276722655, 2.000015816364212, -1.0000125654430176, 1.0000192443511737]\n",
      "12\n"
     ]
    }
   ],
   "source": [
    "A = np.array([[10., -1., 2., 0.],\n",
    "              [-1., 11., -1., 3.],\n",
    "              [2., -1., 10., -1.],\n",
    "              [0.0, 3., -1., 8.]])\n",
    "\n",
    "b = np.array([6., 25., -11., 15.])\n",
    "\n",
    "(x, iter_num) = seidel(A, b, 0.0001)\n",
    "print(x)\n",
    "print(iter_num)"
   ]
  }
 ],
 "metadata": {
  "kernelspec": {
   "display_name": "Python 3",
   "language": "python",
   "name": "python3"
  },
  "language_info": {
   "codemirror_mode": {
    "name": "ipython",
    "version": 3
   },
   "file_extension": ".py",
   "mimetype": "text/x-python",
   "name": "python",
   "nbconvert_exporter": "python",
   "pygments_lexer": "ipython3",
   "version": "3.7.3"
  }
 },
 "nbformat": 4,
 "nbformat_minor": 2
}
