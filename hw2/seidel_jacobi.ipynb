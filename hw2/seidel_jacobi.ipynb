{
 "cells": [
  {
   "cell_type": "code",
   "execution_count": 1,
   "metadata": {},
   "outputs": [],
   "source": [
    "import math\n",
    "import random\n",
    "import numpy as np"
   ]
  },
  {
   "cell_type": "code",
   "execution_count": 8,
   "metadata": {},
   "outputs": [],
   "source": [
    "max_iter_num = 100000\n",
    "\n",
    "def dist(x, y):\n",
    "    return math.sqrt(sum((x[i] - y[i]) ** 2 for i in range(len(x))))\n",
    "\n",
    "def seidel(A, b, eps = 0.001):\n",
    "    n = len(A)\n",
    "    B = []\n",
    "    d = []\n",
    "    for i in range (0, n):\n",
    "        d.append(b[i] / A[i][i])\n",
    "        B.append([])\n",
    "        for j in range (0, n):\n",
    "            B[i].append(-A[i][j] / A[i][i])\n",
    "        B[i][i] = 0.0\n",
    "    \n",
    "    \n",
    "    normB = np.linalg.norm(B)\n",
    "    print(f\"normB: {normB}\")\n",
    "    eps1 = eps\n",
    "    if (normB >= 0.5):\n",
    "        eps1 *= (1.0 - normB) / normB\n",
    "        \n",
    "    x_next = d.copy()\n",
    "    x_cur = x_next.copy()\n",
    "    iter_num = 0\n",
    "    while(dist(x_next, x_cur) >= eps1 and iter_num < max_iter_num or iter_num == 0):\n",
    "        x_cur = x_next.copy()\n",
    "        for i in range (n):\n",
    "            x_next[i] = d[i]\n",
    "            for j in range (0, n):\n",
    "                # Отличие от Якоби только в том, что мы сразу можем использовать\n",
    "                # уже посчитанные x_next.\n",
    "                x_next[i] += B[i][j] * (x_next[j] if i < j else x_cur[j])\n",
    "        iter_num += 1\n",
    "    \n",
    "    return (x_next, iter_num)"
   ]
  },
  {
   "cell_type": "code",
   "execution_count": 9,
   "metadata": {},
   "outputs": [],
   "source": [
    "def test(A, b):\n",
    "    print(f\"A: {A}\")\n",
    "    print(f\"cond: {np.linalg.cond(A)}\")\n",
    "    print(f\"b: {b}\")\n",
    "    (x, iter_num) = seidel(A, b)\n",
    "    print(f\"x: {x}\")\n",
    "    print(f\"solution: {np.linalg.solve(A,b)}\")\n",
    "    print(f\"iter_num: {iter_num}\\n\")"
   ]
  },
  {
   "cell_type": "code",
   "execution_count": 10,
   "metadata": {},
   "outputs": [],
   "source": [
    "def wellConditionedMatrix(num):\n",
    "    return {\n",
    "        3: [[17, 2, 4], [8, 22, 10], [1, 2, 5]],\n",
    "        4: [[8, 2, 4, 1], [8, 39, 10, 3], [1, 2, 7, 1], [5, 2, 1, 15]],\n",
    "        5: [[15, 2, 4, 1, 3], [8, 39, 10, 3, 9], [1, 2, 10, 1, 2], [5, 2, 1, 18, 6], [4, 4, 4, 3, 40]]\n",
    "    }[num]"
   ]
  },
  {
   "cell_type": "code",
   "execution_count": 11,
   "metadata": {},
   "outputs": [],
   "source": [
    "def randomMatrix(size):\n",
    "    return [randomCol(size) for i in range(size)]"
   ]
  },
  {
   "cell_type": "code",
   "execution_count": 12,
   "metadata": {},
   "outputs": [],
   "source": [
    "min = 1\n",
    "max = 10\n",
    "\n",
    "def randomCol(n):\n",
    "    return [np.random.randint(min, max) for i in range(n)]"
   ]
  },
  {
   "cell_type": "code",
   "execution_count": 16,
   "metadata": {},
   "outputs": [],
   "source": [
    "def hilbertMatrix(n):\n",
    "    H = np.zeros((n, n))\n",
    "    for i in range(n):\n",
    "        for j in range(n):\n",
    "            H[i, j] = 1.0 / (i + j + 1.0)\n",
    "    return H"
   ]
  },
  {
   "cell_type": "code",
   "execution_count": 13,
   "metadata": {},
   "outputs": [
    {
     "name": "stdout",
     "output_type": "stream",
     "text": [
      "A: [[17, 2, 4], [8, 22, 10], [1, 2, 5]]\n",
      "cond: 7.575611824345972\n",
      "b: [2, 4, 5]\n",
      "normB: 0.7797737668425032\n",
      "x: [-0.11615766009736953, -0.2945599579283717, 1.14111816485836]\n",
      "solution: [-0.11618257 -0.29460581  1.14107884]\n",
      "iter_num: 16\n",
      "\n",
      "A: [[8, 2, 4, 1], [8, 39, 10, 3], [1, 2, 7, 1], [5, 2, 1, 15]]\n",
      "cond: 8.348030221824898\n",
      "b: [8, 4, 4, 6]\n",
      "normB: 0.8352534183228322\n",
      "x: [0.784184115924334, -0.19576681537999496, 0.4964944936061923, 0.13155847717744304]\n",
      "solution: [ 0.7842243  -0.19573832  0.49652336  0.13158879]\n",
      "iter_num: 19\n",
      "\n",
      "A: [[15, 2, 4, 1, 3], [8, 39, 10, 3, 9], [1, 2, 10, 1, 2], [5, 2, 1, 18, 6], [4, 4, 4, 3, 40]]\n",
      "cond: 5.724417216433276\n",
      "b: [6, 4, 3, 4, 2]\n",
      "normB: 0.7997858680932451\n",
      "x: [0.3290417558898013, -0.03923370947509961, 0.26533514918966356, 0.12535058206548064, -0.014959951816072969]\n",
      "solution: [ 0.32908457 -0.03918546  0.26537528  0.12539814 -0.0149323 ]\n",
      "iter_num: 15\n",
      "\n"
     ]
    }
   ],
   "source": [
    "test(wellConditionedMatrix(3), randomCol(3))\n",
    "test(wellConditionedMatrix(4), randomCol(4))\n",
    "test(wellConditionedMatrix(5), randomCol(5))"
   ]
  },
  {
   "cell_type": "code",
   "execution_count": 14,
   "metadata": {},
   "outputs": [
    {
     "name": "stdout",
     "output_type": "stream",
     "text": [
      "A: [[3, 6, 7], [8, 1, 6], [2, 4, 4]]\n",
      "cond: 36.594192245775425\n",
      "b: [7, 6, 1]\n",
      "normB: 10.52114273472442\n"
     ]
    },
    {
     "ename": "OverflowError",
     "evalue": "(34, 'Result too large')",
     "output_type": "error",
     "traceback": [
      "\u001b[1;31m---------------------------------------------------------------------------\u001b[0m",
      "\u001b[1;31mOverflowError\u001b[0m                             Traceback (most recent call last)",
      "\u001b[1;32m<ipython-input-14-36435cfa03cd>\u001b[0m in \u001b[0;36m<module>\u001b[1;34m\u001b[0m\n\u001b[1;32m----> 1\u001b[1;33m \u001b[0mtest\u001b[0m\u001b[1;33m(\u001b[0m\u001b[0mrandomMatrix\u001b[0m\u001b[1;33m(\u001b[0m\u001b[1;36m3\u001b[0m\u001b[1;33m)\u001b[0m\u001b[1;33m,\u001b[0m \u001b[0mrandomCol\u001b[0m\u001b[1;33m(\u001b[0m\u001b[1;36m3\u001b[0m\u001b[1;33m)\u001b[0m\u001b[1;33m)\u001b[0m\u001b[1;33m\u001b[0m\u001b[1;33m\u001b[0m\u001b[0m\n\u001b[0m\u001b[0;32m      2\u001b[0m \u001b[0mtest\u001b[0m\u001b[1;33m(\u001b[0m\u001b[0mrandomMatrix\u001b[0m\u001b[1;33m(\u001b[0m\u001b[1;36m4\u001b[0m\u001b[1;33m)\u001b[0m\u001b[1;33m,\u001b[0m \u001b[0mrandomCol\u001b[0m\u001b[1;33m(\u001b[0m\u001b[1;36m4\u001b[0m\u001b[1;33m)\u001b[0m\u001b[1;33m)\u001b[0m\u001b[1;33m\u001b[0m\u001b[1;33m\u001b[0m\u001b[0m\n\u001b[0;32m      3\u001b[0m \u001b[0mtest\u001b[0m\u001b[1;33m(\u001b[0m\u001b[0mrandomMatrix\u001b[0m\u001b[1;33m(\u001b[0m\u001b[1;36m5\u001b[0m\u001b[1;33m)\u001b[0m\u001b[1;33m,\u001b[0m \u001b[0mrandomCol\u001b[0m\u001b[1;33m(\u001b[0m\u001b[1;36m5\u001b[0m\u001b[1;33m)\u001b[0m\u001b[1;33m)\u001b[0m\u001b[1;33m\u001b[0m\u001b[1;33m\u001b[0m\u001b[0m\n",
      "\u001b[1;32m<ipython-input-9-522af6d48d27>\u001b[0m in \u001b[0;36mtest\u001b[1;34m(A, b)\u001b[0m\n\u001b[0;32m      3\u001b[0m     \u001b[0mprint\u001b[0m\u001b[1;33m(\u001b[0m\u001b[1;34mf\"cond: {np.linalg.cond(A)}\"\u001b[0m\u001b[1;33m)\u001b[0m\u001b[1;33m\u001b[0m\u001b[1;33m\u001b[0m\u001b[0m\n\u001b[0;32m      4\u001b[0m     \u001b[0mprint\u001b[0m\u001b[1;33m(\u001b[0m\u001b[1;34mf\"b: {b}\"\u001b[0m\u001b[1;33m)\u001b[0m\u001b[1;33m\u001b[0m\u001b[1;33m\u001b[0m\u001b[0m\n\u001b[1;32m----> 5\u001b[1;33m     \u001b[1;33m(\u001b[0m\u001b[0mx\u001b[0m\u001b[1;33m,\u001b[0m \u001b[0miter_num\u001b[0m\u001b[1;33m)\u001b[0m \u001b[1;33m=\u001b[0m \u001b[0mseidel\u001b[0m\u001b[1;33m(\u001b[0m\u001b[0mA\u001b[0m\u001b[1;33m,\u001b[0m \u001b[0mb\u001b[0m\u001b[1;33m)\u001b[0m\u001b[1;33m\u001b[0m\u001b[1;33m\u001b[0m\u001b[0m\n\u001b[0m\u001b[0;32m      6\u001b[0m     \u001b[0mprint\u001b[0m\u001b[1;33m(\u001b[0m\u001b[1;34mf\"x: {x}\"\u001b[0m\u001b[1;33m)\u001b[0m\u001b[1;33m\u001b[0m\u001b[1;33m\u001b[0m\u001b[0m\n\u001b[0;32m      7\u001b[0m     \u001b[0mprint\u001b[0m\u001b[1;33m(\u001b[0m\u001b[1;34mf\"solution: {np.linalg.solve(A,b)}\"\u001b[0m\u001b[1;33m)\u001b[0m\u001b[1;33m\u001b[0m\u001b[1;33m\u001b[0m\u001b[0m\n",
      "\u001b[1;32m<ipython-input-8-f25034642819>\u001b[0m in \u001b[0;36mseidel\u001b[1;34m(A, b, eps)\u001b[0m\n\u001b[0;32m     25\u001b[0m     \u001b[0mx_cur\u001b[0m \u001b[1;33m=\u001b[0m \u001b[0mx_next\u001b[0m\u001b[1;33m.\u001b[0m\u001b[0mcopy\u001b[0m\u001b[1;33m(\u001b[0m\u001b[1;33m)\u001b[0m\u001b[1;33m\u001b[0m\u001b[1;33m\u001b[0m\u001b[0m\n\u001b[0;32m     26\u001b[0m     \u001b[0miter_num\u001b[0m \u001b[1;33m=\u001b[0m \u001b[1;36m0\u001b[0m\u001b[1;33m\u001b[0m\u001b[1;33m\u001b[0m\u001b[0m\n\u001b[1;32m---> 27\u001b[1;33m     \u001b[1;32mwhile\u001b[0m\u001b[1;33m(\u001b[0m\u001b[0mdist\u001b[0m\u001b[1;33m(\u001b[0m\u001b[0mx_next\u001b[0m\u001b[1;33m,\u001b[0m \u001b[0mx_cur\u001b[0m\u001b[1;33m)\u001b[0m \u001b[1;33m>=\u001b[0m \u001b[0meps1\u001b[0m \u001b[1;32mand\u001b[0m \u001b[0miter_num\u001b[0m \u001b[1;33m<\u001b[0m \u001b[0mmax_iter_num\u001b[0m \u001b[1;32mor\u001b[0m \u001b[0miter_num\u001b[0m \u001b[1;33m==\u001b[0m \u001b[1;36m0\u001b[0m\u001b[1;33m)\u001b[0m\u001b[1;33m:\u001b[0m\u001b[1;33m\u001b[0m\u001b[1;33m\u001b[0m\u001b[0m\n\u001b[0m\u001b[0;32m     28\u001b[0m         \u001b[0mx_cur\u001b[0m \u001b[1;33m=\u001b[0m \u001b[0mx_next\u001b[0m\u001b[1;33m.\u001b[0m\u001b[0mcopy\u001b[0m\u001b[1;33m(\u001b[0m\u001b[1;33m)\u001b[0m\u001b[1;33m\u001b[0m\u001b[1;33m\u001b[0m\u001b[0m\n\u001b[0;32m     29\u001b[0m         \u001b[1;32mfor\u001b[0m \u001b[0mi\u001b[0m \u001b[1;32min\u001b[0m \u001b[0mrange\u001b[0m \u001b[1;33m(\u001b[0m\u001b[0mn\u001b[0m\u001b[1;33m)\u001b[0m\u001b[1;33m:\u001b[0m\u001b[1;33m\u001b[0m\u001b[1;33m\u001b[0m\u001b[0m\n",
      "\u001b[1;32m<ipython-input-8-f25034642819>\u001b[0m in \u001b[0;36mdist\u001b[1;34m(x, y)\u001b[0m\n\u001b[0;32m      2\u001b[0m \u001b[1;33m\u001b[0m\u001b[0m\n\u001b[0;32m      3\u001b[0m \u001b[1;32mdef\u001b[0m \u001b[0mdist\u001b[0m\u001b[1;33m(\u001b[0m\u001b[0mx\u001b[0m\u001b[1;33m,\u001b[0m \u001b[0my\u001b[0m\u001b[1;33m)\u001b[0m\u001b[1;33m:\u001b[0m\u001b[1;33m\u001b[0m\u001b[1;33m\u001b[0m\u001b[0m\n\u001b[1;32m----> 4\u001b[1;33m     \u001b[1;32mreturn\u001b[0m \u001b[0mmath\u001b[0m\u001b[1;33m.\u001b[0m\u001b[0msqrt\u001b[0m\u001b[1;33m(\u001b[0m\u001b[0msum\u001b[0m\u001b[1;33m(\u001b[0m\u001b[1;33m(\u001b[0m\u001b[0mx\u001b[0m\u001b[1;33m[\u001b[0m\u001b[0mi\u001b[0m\u001b[1;33m]\u001b[0m \u001b[1;33m-\u001b[0m \u001b[0my\u001b[0m\u001b[1;33m[\u001b[0m\u001b[0mi\u001b[0m\u001b[1;33m]\u001b[0m\u001b[1;33m)\u001b[0m \u001b[1;33m**\u001b[0m \u001b[1;36m2\u001b[0m \u001b[1;32mfor\u001b[0m \u001b[0mi\u001b[0m \u001b[1;32min\u001b[0m \u001b[0mrange\u001b[0m\u001b[1;33m(\u001b[0m\u001b[0mlen\u001b[0m\u001b[1;33m(\u001b[0m\u001b[0mx\u001b[0m\u001b[1;33m)\u001b[0m\u001b[1;33m)\u001b[0m\u001b[1;33m)\u001b[0m\u001b[1;33m)\u001b[0m\u001b[1;33m\u001b[0m\u001b[1;33m\u001b[0m\u001b[0m\n\u001b[0m\u001b[0;32m      5\u001b[0m \u001b[1;33m\u001b[0m\u001b[0m\n\u001b[0;32m      6\u001b[0m \u001b[1;32mdef\u001b[0m \u001b[0mseidel\u001b[0m\u001b[1;33m(\u001b[0m\u001b[0mA\u001b[0m\u001b[1;33m,\u001b[0m \u001b[0mb\u001b[0m\u001b[1;33m,\u001b[0m \u001b[0meps\u001b[0m \u001b[1;33m=\u001b[0m \u001b[1;36m0.001\u001b[0m\u001b[1;33m)\u001b[0m\u001b[1;33m:\u001b[0m\u001b[1;33m\u001b[0m\u001b[1;33m\u001b[0m\u001b[0m\n",
      "\u001b[1;32m<ipython-input-8-f25034642819>\u001b[0m in \u001b[0;36m<genexpr>\u001b[1;34m(.0)\u001b[0m\n\u001b[0;32m      2\u001b[0m \u001b[1;33m\u001b[0m\u001b[0m\n\u001b[0;32m      3\u001b[0m \u001b[1;32mdef\u001b[0m \u001b[0mdist\u001b[0m\u001b[1;33m(\u001b[0m\u001b[0mx\u001b[0m\u001b[1;33m,\u001b[0m \u001b[0my\u001b[0m\u001b[1;33m)\u001b[0m\u001b[1;33m:\u001b[0m\u001b[1;33m\u001b[0m\u001b[1;33m\u001b[0m\u001b[0m\n\u001b[1;32m----> 4\u001b[1;33m     \u001b[1;32mreturn\u001b[0m \u001b[0mmath\u001b[0m\u001b[1;33m.\u001b[0m\u001b[0msqrt\u001b[0m\u001b[1;33m(\u001b[0m\u001b[0msum\u001b[0m\u001b[1;33m(\u001b[0m\u001b[1;33m(\u001b[0m\u001b[0mx\u001b[0m\u001b[1;33m[\u001b[0m\u001b[0mi\u001b[0m\u001b[1;33m]\u001b[0m \u001b[1;33m-\u001b[0m \u001b[0my\u001b[0m\u001b[1;33m[\u001b[0m\u001b[0mi\u001b[0m\u001b[1;33m]\u001b[0m\u001b[1;33m)\u001b[0m \u001b[1;33m**\u001b[0m \u001b[1;36m2\u001b[0m \u001b[1;32mfor\u001b[0m \u001b[0mi\u001b[0m \u001b[1;32min\u001b[0m \u001b[0mrange\u001b[0m\u001b[1;33m(\u001b[0m\u001b[0mlen\u001b[0m\u001b[1;33m(\u001b[0m\u001b[0mx\u001b[0m\u001b[1;33m)\u001b[0m\u001b[1;33m)\u001b[0m\u001b[1;33m)\u001b[0m\u001b[1;33m)\u001b[0m\u001b[1;33m\u001b[0m\u001b[1;33m\u001b[0m\u001b[0m\n\u001b[0m\u001b[0;32m      5\u001b[0m \u001b[1;33m\u001b[0m\u001b[0m\n\u001b[0;32m      6\u001b[0m \u001b[1;32mdef\u001b[0m \u001b[0mseidel\u001b[0m\u001b[1;33m(\u001b[0m\u001b[0mA\u001b[0m\u001b[1;33m,\u001b[0m \u001b[0mb\u001b[0m\u001b[1;33m,\u001b[0m \u001b[0meps\u001b[0m \u001b[1;33m=\u001b[0m \u001b[1;36m0.001\u001b[0m\u001b[1;33m)\u001b[0m\u001b[1;33m:\u001b[0m\u001b[1;33m\u001b[0m\u001b[1;33m\u001b[0m\u001b[0m\n",
      "\u001b[1;31mOverflowError\u001b[0m: (34, 'Result too large')"
     ]
    }
   ],
   "source": [
    "test(randomMatrix(3), randomCol(3))\n",
    "test(randomMatrix(4), randomCol(4))\n",
    "test(randomMatrix(5), randomCol(5))"
   ]
  },
  {
   "cell_type": "code",
   "execution_count": 17,
   "metadata": {},
   "outputs": [
    {
     "name": "stdout",
     "output_type": "stream",
     "text": [
      "A: [[1.         0.5        0.33333333]\n",
      " [0.5        0.33333333 0.25      ]\n",
      " [0.33333333 0.25       0.2       ]]\n",
      "cond: 524.0567775860644\n",
      "b: [5, 1, 6]\n",
      "normB: 2.7411473672330877\n",
      "x: [inf, nan, nan]\n",
      "solution: [  189. -1068.  1050.]\n",
      "iter_num: 1302\n",
      "\n",
      "A: [[1.         0.5        0.33333333 0.25      ]\n",
      " [0.5        0.33333333 0.25       0.2       ]\n",
      " [0.33333333 0.25       0.2        0.16666667]\n",
      " [0.25       0.2        0.16666667 0.14285714]]\n",
      "cond: 15513.73873892924\n",
      "b: [2, 1, 1, 6]\n",
      "normB: 3.8748476672566685\n",
      "x: [-inf, -inf, nan, nan]\n",
      "solution: [  -688.   8340. -20940.  14000.]\n",
      "iter_num: 747\n",
      "\n",
      "A: [[1.         0.5        0.33333333 0.25       0.2       ]\n",
      " [0.5        0.33333333 0.25       0.2        0.16666667]\n",
      " [0.33333333 0.25       0.2        0.16666667 0.14285714]\n",
      " [0.25       0.2        0.16666667 0.14285714 0.125     ]\n",
      " [0.2        0.16666667 0.14285714 0.125      0.11111111]]\n",
      "cond: 476607.2502422687\n",
      "b: [6, 4, 7, 6, 9]\n",
      "normB: 4.9988958531426615\n",
      "x: [-inf, nan, nan, nan, nan]\n",
      "solution: [   3570.00000002  -67020.00000044  291060.00000194 -442680.00000298\n",
      "  217980.00000148]\n",
      "iter_num: 573\n",
      "\n"
     ]
    },
    {
     "name": "stderr",
     "output_type": "stream",
     "text": [
      "c:\\users\\egor\\appdata\\local\\programs\\python\\python37\\lib\\site-packages\\ipykernel_launcher.py:4: RuntimeWarning: overflow encountered in double_scalars\n",
      "  after removing the cwd from sys.path.\n",
      "c:\\users\\egor\\appdata\\local\\programs\\python\\python37\\lib\\site-packages\\ipykernel_launcher.py:34: RuntimeWarning: overflow encountered in double_scalars\n",
      "c:\\users\\egor\\appdata\\local\\programs\\python\\python37\\lib\\site-packages\\ipykernel_launcher.py:34: RuntimeWarning: invalid value encountered in double_scalars\n"
     ]
    }
   ],
   "source": [
    "test(hilbertMatrix(3), randomCol(3))\n",
    "test(hilbertMatrix(4), randomCol(4))\n",
    "test(hilbertMatrix(5), randomCol(5))"
   ]
  }
 ],
 "metadata": {
  "kernelspec": {
   "display_name": "Python 3",
   "language": "python",
   "name": "python3"
  },
  "language_info": {
   "codemirror_mode": {
    "name": "ipython",
    "version": 3
   },
   "file_extension": ".py",
   "mimetype": "text/x-python",
   "name": "python",
   "nbconvert_exporter": "python",
   "pygments_lexer": "ipython3",
   "version": "3.7.3"
  }
 },
 "nbformat": 4,
 "nbformat_minor": 2
}
