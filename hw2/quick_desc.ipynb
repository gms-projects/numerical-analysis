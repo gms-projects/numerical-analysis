{
 "cells": [
  {
   "cell_type": "code",
   "execution_count": 1,
   "metadata": {},
   "outputs": [],
   "source": [
    "import random\n",
    "import numpy as np\n",
    "import numpy.linalg as la"
   ]
  },
  {
   "cell_type": "code",
   "execution_count": 5,
   "metadata": {},
   "outputs": [],
   "source": [
    "def randomMatrix(size, bound):\n",
    "    return [randomColumn(size, bound) for i in range(size)]\n",
    "\n",
    "def randomColumn(size, bound):\n",
    "    return [random.randint(0, bound) for i in range(size)]"
   ]
  },
  {
   "cell_type": "code",
   "execution_count": 36,
   "metadata": {},
   "outputs": [
    {
     "name": "stdout",
     "output_type": "stream",
     "text": [
      "2.3597277366464087\n",
      "[ 1.  2. -1.  1.]\n",
      "[ 1.  2. -1.  1.]\n"
     ]
    }
   ],
   "source": [
    "# В numpy норма вектора | матрицы == sqrt (sum (sqr))\n",
    "def grad(A, x, b):\n",
    "    return np.dot(A, x) - b\n",
    "\n",
    "def quick_desc(A, b, size, bound, eps):\n",
    "#     Домножим обе части на A^T, чтобы получить симметричную матрицу.\n",
    "    A_T = A.transpose()\n",
    "    A = np.dot(A, A_T)\n",
    "    b = np.dot(b, A_T)\n",
    "    x = randomColumn(size, bound)\n",
    "    while la.norm(grad(A, x, b)) >= eps:\n",
    "        r = -grad(A, x, b)\n",
    "        a = np.dot(r, r) / np.dot(r, np.dot(A, r))\n",
    "        x = x - a * grad(A, x, b)\n",
    "    return x\n",
    "\n",
    "A = np.array([[10, -1, 2, 0],\n",
    "              [-1, 11, -1, 3],\n",
    "              [2, -1, 10, -1],\n",
    "              [0, 3, -1, 8]])\n",
    "\n",
    "b = np.array([6, 25, -11, 15])\n",
    "print(la.cond(A))\n",
    "print(la.solve(A, b))\n",
    "print(quick_desc(A, b, 4, 100, 0.0000001))"
   ]
  },
  {
   "cell_type": "code",
   "execution_count": 27,
   "metadata": {},
   "outputs": [
    {
     "data": {
      "text/plain": [
       "2.0"
      ]
     },
     "execution_count": 27,
     "metadata": {},
     "output_type": "execute_result"
    }
   ],
   "source": [
    "A = np.array([[8, -1, -2, 0],\n",
    "              [0, 10, -2, 2],\n",
    "              [-1, 0, 6, 2],\n",
    "              [3, -1, 2, 12]])\n",
    "\n",
    "b = np.array([-2.3, 0.5, 1.2, -3.7])\n",
    "la.solve(A, b)\n",
    "A = np.array([[1, 1],\n",
    "              [1, 1]])\n",
    "b = np.array([3, 4])\n",
    "# A *= A.transpose()\n",
    "# print(A)\n",
    "# print(A.transpose())\n",
    "la.norm(A)"
   ]
  }
 ],
 "metadata": {
  "kernelspec": {
   "display_name": "Python 3",
   "language": "python",
   "name": "python3"
  },
  "language_info": {
   "codemirror_mode": {
    "name": "ipython",
    "version": 3
   },
   "file_extension": ".py",
   "mimetype": "text/x-python",
   "name": "python",
   "nbconvert_exporter": "python",
   "pygments_lexer": "ipython3",
   "version": "3.7.2"
  }
 },
 "nbformat": 4,
 "nbformat_minor": 2
}
