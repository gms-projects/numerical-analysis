{
 "cells": [
  {
   "cell_type": "code",
   "execution_count": 1,
   "metadata": {},
   "outputs": [],
   "source": [
    "import math\n",
    "import numpy as np\n",
    "import random"
   ]
  },
  {
   "cell_type": "code",
   "execution_count": 2,
   "metadata": {},
   "outputs": [],
   "source": [
    "def dist(x, y):\n",
    "    res = 0.0\n",
    "    for i in range(len(x)):\n",
    "        res += (y[i] - x[i]) ** 2\n",
    "    return math.sqrt(res)"
   ]
  },
  {
   "cell_type": "code",
   "execution_count": 3,
   "metadata": {},
   "outputs": [],
   "source": [
    "eps = 0.001\n",
    "max_iter_num = 100000\n",
    "\n",
    "def jacobySolve(A, b):\n",
    "    n = len(A)\n",
    "    B = []\n",
    "    d = []\n",
    "    for i in range(n):\n",
    "        d.append(b[i] / A[i][i])\n",
    "        B.append([])\n",
    "        for j in range(n):\n",
    "            B[i].append(-A[i][j] / A[i][i])\n",
    "        B[i][i] = 0.0\n",
    "    \n",
    "    detB = np.linalg.det(B)\n",
    "    eps1 = eps\n",
    "    if (detB >= 0.5):\n",
    "        eps1 *= (1.0 - detB) / detB\n",
    "        \n",
    "    x_next = d.copy()\n",
    "    x_cur = [0.0] * n\n",
    "    iter_num = 0\n",
    "    while(dist(x_next, x_cur) >= eps1 and iter_num < max_iter_num or iter_num == 0):\n",
    "        x_cur = x_next.copy()\n",
    "        for i in range(n):\n",
    "            x_next[i] = d[i]\n",
    "            for j in range(n):\n",
    "                x_next[i] += B[i][j] * x_cur[j]\n",
    "        iter_num += 1\n",
    "    \n",
    "    return (x_next, iter_num)"
   ]
  },
  {
   "cell_type": "code",
   "execution_count": 4,
   "metadata": {},
   "outputs": [],
   "source": [
    "def test(A, b):\n",
    "    print(f\"A: {A}\")\n",
    "    print(f\"cond: {np.linalg.cond(A)}\")\n",
    "    print(f\"b: {b}\")\n",
    "    (x, iter_num) = jacobySolve(A, b)\n",
    "    print(f\"x: {x}\")\n",
    "    print(f\"solution: {np.linalg.solve(A,b)}\")\n",
    "    print(f\"iter_num: {iter_num}\\n\")"
   ]
  },
  {
   "cell_type": "code",
   "execution_count": 5,
   "metadata": {},
   "outputs": [],
   "source": [
    "def wellConditionedMatrix(num):\n",
    "    return {\n",
    "        3: [[17, 2, 4], [8, 22, 10], [1, 2, 5]],\n",
    "        4: [[8, 2, 4, 1], [8, 39, 10, 3], [1, 2, 7, 1], [5, 2, 1, 15]],\n",
    "        5: [[15, 2, 4, 1, 3], [8, 39, 10, 3, 9], [1, 2, 10, 1, 2], [5, 2, 1, 18, 6], [4, 4, 4, 3, 40]]\n",
    "    }[num]"
   ]
  },
  {
   "cell_type": "code",
   "execution_count": 6,
   "metadata": {},
   "outputs": [],
   "source": [
    "def randomMatrix(size):\n",
    "    return [randomCol(size) for i in range(size)]"
   ]
  },
  {
   "cell_type": "code",
   "execution_count": 7,
   "metadata": {},
   "outputs": [],
   "source": [
    "def hilbertMatrix(n):\n",
    "    H = np.zeros((n, n))\n",
    "    for i in range(n):\n",
    "        for j in range(n):\n",
    "            H[i, j] = 1.0 / (i + j + 1.0)\n",
    "    return H"
   ]
  },
  {
   "cell_type": "code",
   "execution_count": 8,
   "metadata": {},
   "outputs": [],
   "source": [
    "min = 1\n",
    "max = 10\n",
    "\n",
    "def randomCol(n):\n",
    "    return [np.random.randint(min, max) for i in range(n)]"
   ]
  },
  {
   "cell_type": "code",
   "execution_count": 9,
   "metadata": {},
   "outputs": [
    {
     "name": "stdout",
     "output_type": "stream",
     "text": [
      "A: [[17, 2, 4], [8, 22, 10], [1, 2, 5]]\n",
      "cond: 7.575611824345972\n",
      "b: [6, 8, 5]\n",
      "x: [0.127339695763627, -0.15335738359510348, 1.0361062792714668]\n",
      "solution: [ 0.12724758 -0.15352697  1.03596127]\n",
      "iter_num: 14\n",
      "\n",
      "A: [[8, 2, 4, 1], [8, 39, 10, 3], [1, 2, 7, 1], [5, 2, 1, 15]]\n",
      "cond: 8.3480302218249\n",
      "b: [8, 2, 7, 3]\n",
      "x: [0.5771607147248876, -0.32539884908084243, 1.0130701933793684, -0.016306234701142286]\n",
      "solution: [ 0.57697196 -0.32553271  1.01293458 -0.0164486 ]\n",
      "iter_num: 16\n",
      "\n",
      "A: [[15, 2, 4, 1, 3], [8, 39, 10, 3, 9], [1, 2, 10, 1, 2], [5, 2, 1, 18, 6], [4, 4, 4, 3, 40]]\n",
      "cond: 5.724417216433274\n",
      "b: [5, 2, 7, 9, 3]\n",
      "x: [0.15098686366017136, -0.18334958395997983, 0.681565682107905, 0.4485754836094435, -0.023452127721555013]\n",
      "solution: [ 0.15087936 -0.18347072  0.68146491  0.44845606 -0.02352156]\n",
      "iter_num: 14\n",
      "\n"
     ]
    }
   ],
   "source": [
    "test(wellConditionedMatrix(3), randomCol(3))\n",
    "test(wellConditionedMatrix(4), randomCol(4))\n",
    "test(wellConditionedMatrix(5), randomCol(5))"
   ]
  },
  {
   "cell_type": "code",
   "execution_count": 10,
   "metadata": {},
   "outputs": [
    {
     "name": "stdout",
     "output_type": "stream",
     "text": [
      "A: [[4, 3, 5], [9, 1, 3], [6, 3, 1]]\n",
      "cond: 6.200203848501368\n",
      "b: [5, 6, 4]\n"
     ]
    },
    {
     "ename": "OverflowError",
     "evalue": "(34, 'Result too large')",
     "output_type": "error",
     "traceback": [
      "\u001b[1;31m---------------------------------------------------------------------------\u001b[0m",
      "\u001b[1;31mOverflowError\u001b[0m                             Traceback (most recent call last)",
      "\u001b[1;32m<ipython-input-10-36435cfa03cd>\u001b[0m in \u001b[0;36m<module>\u001b[1;34m\u001b[0m\n\u001b[1;32m----> 1\u001b[1;33m \u001b[0mtest\u001b[0m\u001b[1;33m(\u001b[0m\u001b[0mrandomMatrix\u001b[0m\u001b[1;33m(\u001b[0m\u001b[1;36m3\u001b[0m\u001b[1;33m)\u001b[0m\u001b[1;33m,\u001b[0m \u001b[0mrandomCol\u001b[0m\u001b[1;33m(\u001b[0m\u001b[1;36m3\u001b[0m\u001b[1;33m)\u001b[0m\u001b[1;33m)\u001b[0m\u001b[1;33m\u001b[0m\u001b[1;33m\u001b[0m\u001b[0m\n\u001b[0m\u001b[0;32m      2\u001b[0m \u001b[0mtest\u001b[0m\u001b[1;33m(\u001b[0m\u001b[0mrandomMatrix\u001b[0m\u001b[1;33m(\u001b[0m\u001b[1;36m4\u001b[0m\u001b[1;33m)\u001b[0m\u001b[1;33m,\u001b[0m \u001b[0mrandomCol\u001b[0m\u001b[1;33m(\u001b[0m\u001b[1;36m4\u001b[0m\u001b[1;33m)\u001b[0m\u001b[1;33m)\u001b[0m\u001b[1;33m\u001b[0m\u001b[1;33m\u001b[0m\u001b[0m\n\u001b[0;32m      3\u001b[0m \u001b[0mtest\u001b[0m\u001b[1;33m(\u001b[0m\u001b[0mrandomMatrix\u001b[0m\u001b[1;33m(\u001b[0m\u001b[1;36m5\u001b[0m\u001b[1;33m)\u001b[0m\u001b[1;33m,\u001b[0m \u001b[0mrandomCol\u001b[0m\u001b[1;33m(\u001b[0m\u001b[1;36m5\u001b[0m\u001b[1;33m)\u001b[0m\u001b[1;33m)\u001b[0m\u001b[1;33m\u001b[0m\u001b[1;33m\u001b[0m\u001b[0m\n",
      "\u001b[1;32m<ipython-input-4-f0d7ae4909bc>\u001b[0m in \u001b[0;36mtest\u001b[1;34m(A, b)\u001b[0m\n\u001b[0;32m      3\u001b[0m     \u001b[0mprint\u001b[0m\u001b[1;33m(\u001b[0m\u001b[1;34mf\"cond: {np.linalg.cond(A)}\"\u001b[0m\u001b[1;33m)\u001b[0m\u001b[1;33m\u001b[0m\u001b[1;33m\u001b[0m\u001b[0m\n\u001b[0;32m      4\u001b[0m     \u001b[0mprint\u001b[0m\u001b[1;33m(\u001b[0m\u001b[1;34mf\"b: {b}\"\u001b[0m\u001b[1;33m)\u001b[0m\u001b[1;33m\u001b[0m\u001b[1;33m\u001b[0m\u001b[0m\n\u001b[1;32m----> 5\u001b[1;33m     \u001b[1;33m(\u001b[0m\u001b[0mx\u001b[0m\u001b[1;33m,\u001b[0m \u001b[0miter_num\u001b[0m\u001b[1;33m)\u001b[0m \u001b[1;33m=\u001b[0m \u001b[0mjacobySolve\u001b[0m\u001b[1;33m(\u001b[0m\u001b[0mA\u001b[0m\u001b[1;33m,\u001b[0m \u001b[0mb\u001b[0m\u001b[1;33m)\u001b[0m\u001b[1;33m\u001b[0m\u001b[1;33m\u001b[0m\u001b[0m\n\u001b[0m\u001b[0;32m      6\u001b[0m     \u001b[0mprint\u001b[0m\u001b[1;33m(\u001b[0m\u001b[1;34mf\"x: {x}\"\u001b[0m\u001b[1;33m)\u001b[0m\u001b[1;33m\u001b[0m\u001b[1;33m\u001b[0m\u001b[0m\n\u001b[0;32m      7\u001b[0m     \u001b[0mprint\u001b[0m\u001b[1;33m(\u001b[0m\u001b[1;34mf\"solution: {np.linalg.solve(A,b)}\"\u001b[0m\u001b[1;33m)\u001b[0m\u001b[1;33m\u001b[0m\u001b[1;33m\u001b[0m\u001b[0m\n",
      "\u001b[1;32m<ipython-input-3-1bdf3e14d92d>\u001b[0m in \u001b[0;36mjacobySolve\u001b[1;34m(A, b)\u001b[0m\n\u001b[0;32m     21\u001b[0m     \u001b[0mx_cur\u001b[0m \u001b[1;33m=\u001b[0m \u001b[1;33m[\u001b[0m\u001b[1;36m0.0\u001b[0m\u001b[1;33m]\u001b[0m \u001b[1;33m*\u001b[0m \u001b[0mn\u001b[0m\u001b[1;33m\u001b[0m\u001b[1;33m\u001b[0m\u001b[0m\n\u001b[0;32m     22\u001b[0m     \u001b[0miter_num\u001b[0m \u001b[1;33m=\u001b[0m \u001b[1;36m0\u001b[0m\u001b[1;33m\u001b[0m\u001b[1;33m\u001b[0m\u001b[0m\n\u001b[1;32m---> 23\u001b[1;33m     \u001b[1;32mwhile\u001b[0m\u001b[1;33m(\u001b[0m\u001b[0mdist\u001b[0m\u001b[1;33m(\u001b[0m\u001b[0mx_next\u001b[0m\u001b[1;33m,\u001b[0m \u001b[0mx_cur\u001b[0m\u001b[1;33m)\u001b[0m \u001b[1;33m>=\u001b[0m \u001b[0meps1\u001b[0m \u001b[1;32mand\u001b[0m \u001b[0miter_num\u001b[0m \u001b[1;33m<\u001b[0m \u001b[0mmax_iter_num\u001b[0m \u001b[1;32mor\u001b[0m \u001b[0miter_num\u001b[0m \u001b[1;33m==\u001b[0m \u001b[1;36m0\u001b[0m\u001b[1;33m)\u001b[0m\u001b[1;33m:\u001b[0m\u001b[1;33m\u001b[0m\u001b[1;33m\u001b[0m\u001b[0m\n\u001b[0m\u001b[0;32m     24\u001b[0m         \u001b[0mx_cur\u001b[0m \u001b[1;33m=\u001b[0m \u001b[0mx_next\u001b[0m\u001b[1;33m.\u001b[0m\u001b[0mcopy\u001b[0m\u001b[1;33m(\u001b[0m\u001b[1;33m)\u001b[0m\u001b[1;33m\u001b[0m\u001b[1;33m\u001b[0m\u001b[0m\n\u001b[0;32m     25\u001b[0m         \u001b[1;32mfor\u001b[0m \u001b[0mi\u001b[0m \u001b[1;32min\u001b[0m \u001b[0mrange\u001b[0m\u001b[1;33m(\u001b[0m\u001b[0mn\u001b[0m\u001b[1;33m)\u001b[0m\u001b[1;33m:\u001b[0m\u001b[1;33m\u001b[0m\u001b[1;33m\u001b[0m\u001b[0m\n",
      "\u001b[1;32m<ipython-input-2-9a9596c3981f>\u001b[0m in \u001b[0;36mdist\u001b[1;34m(x, y)\u001b[0m\n\u001b[0;32m      2\u001b[0m     \u001b[0mres\u001b[0m \u001b[1;33m=\u001b[0m \u001b[1;36m0.0\u001b[0m\u001b[1;33m\u001b[0m\u001b[1;33m\u001b[0m\u001b[0m\n\u001b[0;32m      3\u001b[0m     \u001b[1;32mfor\u001b[0m \u001b[0mi\u001b[0m \u001b[1;32min\u001b[0m \u001b[0mrange\u001b[0m\u001b[1;33m(\u001b[0m\u001b[0mlen\u001b[0m\u001b[1;33m(\u001b[0m\u001b[0mx\u001b[0m\u001b[1;33m)\u001b[0m\u001b[1;33m)\u001b[0m\u001b[1;33m:\u001b[0m\u001b[1;33m\u001b[0m\u001b[1;33m\u001b[0m\u001b[0m\n\u001b[1;32m----> 4\u001b[1;33m         \u001b[0mres\u001b[0m \u001b[1;33m+=\u001b[0m \u001b[1;33m(\u001b[0m\u001b[0my\u001b[0m\u001b[1;33m[\u001b[0m\u001b[0mi\u001b[0m\u001b[1;33m]\u001b[0m \u001b[1;33m-\u001b[0m \u001b[0mx\u001b[0m\u001b[1;33m[\u001b[0m\u001b[0mi\u001b[0m\u001b[1;33m]\u001b[0m\u001b[1;33m)\u001b[0m \u001b[1;33m**\u001b[0m \u001b[1;36m2\u001b[0m\u001b[1;33m\u001b[0m\u001b[1;33m\u001b[0m\u001b[0m\n\u001b[0m\u001b[0;32m      5\u001b[0m     \u001b[1;32mreturn\u001b[0m \u001b[0mmath\u001b[0m\u001b[1;33m.\u001b[0m\u001b[0msqrt\u001b[0m\u001b[1;33m(\u001b[0m\u001b[0mres\u001b[0m\u001b[1;33m)\u001b[0m\u001b[1;33m\u001b[0m\u001b[1;33m\u001b[0m\u001b[0m\n",
      "\u001b[1;31mOverflowError\u001b[0m: (34, 'Result too large')"
     ]
    }
   ],
   "source": [
    "test(randomMatrix(3), randomCol(3))\n",
    "test(randomMatrix(4), randomCol(4))\n",
    "test(randomMatrix(5), randomCol(5))"
   ]
  },
  {
   "cell_type": "code",
   "execution_count": 11,
   "metadata": {},
   "outputs": [
    {
     "name": "stdout",
     "output_type": "stream",
     "text": [
      "A: [[1.         0.5        0.33333333]\n",
      " [0.5        0.33333333 0.25      ]\n",
      " [0.33333333 0.25       0.2       ]]\n",
      "cond: 524.0567775860644\n",
      "b: [7, 8, 9]\n",
      "x: [-inf, nan, nan]\n",
      "solution: [  45. -336.  390.]\n",
      "iter_num: 1301\n",
      "\n",
      "A: [[1.         0.5        0.33333333 0.25      ]\n",
      " [0.5        0.33333333 0.25       0.2       ]\n",
      " [0.33333333 0.25       0.2        0.16666667]\n",
      " [0.25       0.2        0.16666667 0.14285714]]\n",
      "cond: 15513.738738928138\n",
      "b: [5, 6, 6, 6]\n",
      "x: [-inf, nan, nan, nan]\n",
      "solution: [  -40.   480. -1320.   980.]\n",
      "iter_num: 747\n",
      "\n",
      "A: [[1.         0.5        0.33333333 0.25       0.2       ]\n",
      " [0.5        0.33333333 0.25       0.2        0.16666667]\n",
      " [0.33333333 0.25       0.2        0.16666667 0.14285714]\n",
      " [0.25       0.2        0.16666667 0.14285714 0.125     ]\n",
      " [0.2        0.16666667 0.14285714 0.125      0.11111111]]\n",
      "cond: 476607.25024172297\n",
      "b: [2, 2, 9, 4, 4]\n",
      "x: [-inf, nan, nan, nan, nan]\n",
      "solution: [   5820.         -103980.          435120.00000003 -643440.00000008\n",
      "  309960.00000005]\n",
      "iter_num: 573\n",
      "\n"
     ]
    },
    {
     "name": "stderr",
     "output_type": "stream",
     "text": [
      "c:\\users\\xiaomi\\appdata\\local\\programs\\python\\python37-32\\lib\\site-packages\\ipykernel_launcher.py:4: RuntimeWarning: overflow encountered in double_scalars\n",
      "  after removing the cwd from sys.path.\n",
      "c:\\users\\xiaomi\\appdata\\local\\programs\\python\\python37-32\\lib\\site-packages\\ipykernel_launcher.py:28: RuntimeWarning: overflow encountered in double_scalars\n",
      "c:\\users\\xiaomi\\appdata\\local\\programs\\python\\python37-32\\lib\\site-packages\\ipykernel_launcher.py:28: RuntimeWarning: invalid value encountered in double_scalars\n"
     ]
    }
   ],
   "source": [
    "test(hilbertMatrix(3), randomCol(3))\n",
    "test(hilbertMatrix(4), randomCol(4))\n",
    "test(hilbertMatrix(5), randomCol(5))"
   ]
  }
 ],
 "metadata": {
  "kernelspec": {
   "display_name": "Python 3",
   "language": "python",
   "name": "python3"
  },
  "language_info": {
   "codemirror_mode": {
    "name": "ipython",
    "version": 3
   },
   "file_extension": ".py",
   "mimetype": "text/x-python",
   "name": "python",
   "nbconvert_exporter": "python",
   "pygments_lexer": "ipython3",
   "version": "3.7.2"
  }
 },
 "nbformat": 4,
 "nbformat_minor": 2
}
