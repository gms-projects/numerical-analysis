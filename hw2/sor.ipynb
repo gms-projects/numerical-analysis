{
 "cells": [
  {
   "cell_type": "code",
   "execution_count": 1,
   "metadata": {},
   "outputs": [],
   "source": [
    "import math\n",
    "import numpy as np"
   ]
  },
  {
   "cell_type": "code",
   "execution_count": 4,
   "metadata": {},
   "outputs": [],
   "source": [
    "def dist(x, y):\n",
    "    return math.sqrt(sum((x[i] - y[i]) ** 2 for i in range(len(x))))\n",
    "\n",
    "\n",
    "def SOR(A, b, eps, mo):\n",
    "    n = len(A)\n",
    "    B = []\n",
    "    d = []\n",
    "    for i in range (0, n):\n",
    "        d.append(b[i] / A[i][i])\n",
    "        B.append([])\n",
    "        for j in range (0, n):\n",
    "            B[i].append(-A[i][j] / A[i][i])\n",
    "        B[i][i] = 0.0\n",
    "    \n",
    "    detB = np.linalg.det(B)\n",
    "    eps1 = eps\n",
    "    if (detB >= 0.5):\n",
    "        eps1 *= (1.0 - detB) / detB\n",
    "        \n",
    "    x_next = d.copy()\n",
    "    x_cur = x_next.copy()\n",
    "    iter_num = 0\n",
    "    while(dist(x_next, x_cur) >= eps1 or iter_num == 0):\n",
    "        x_cur = x_next.copy()\n",
    "        for i in range (0, n):\n",
    "            x_next[i] = d[i]\n",
    "            for j in range (0, n):\n",
    "                x_next[i] += B[i][j] * (x_next[j] if i < j else x_cur[j])\n",
    "            x_next[i] = mo * x_next[i] + (1 - mo) * x_cur[i]\n",
    "        iter_num += 1\n",
    "    \n",
    "    return (x_next, iter_num)"
   ]
  },
  {
   "cell_type": "code",
   "execution_count": 8,
   "metadata": {},
   "outputs": [
    {
     "name": "stdout",
     "output_type": "stream",
     "text": [
      "[1.0000120983140077, 1.999979755563893, -0.9999843263979414, 0.999977603086708]\n",
      "41\n"
     ]
    }
   ],
   "source": [
    "A = np.array([[10., -1., 2., 0.],\n",
    "              [-1., 11., -1., 3.],\n",
    "              [2., -1., 10., -1.],\n",
    "              [0.0, 3., -1., 8.]])\n",
    "\n",
    "b = np.array([6., 25., -11., 15.])\n",
    "\n",
    "(x, iter_num) = SOR(A, b, 0.0001, 1.25)\n",
    "print(x)\n",
    "print(iter_num)"
   ]
  }
 ],
 "metadata": {
  "kernelspec": {
   "display_name": "Python 3",
   "language": "python",
   "name": "python3"
  },
  "language_info": {
   "codemirror_mode": {
    "name": "ipython",
    "version": 3
   },
   "file_extension": ".py",
   "mimetype": "text/x-python",
   "name": "python",
   "nbconvert_exporter": "python",
   "pygments_lexer": "ipython3",
   "version": "3.7.2"
  }
 },
 "nbformat": 4,
 "nbformat_minor": 2
}
